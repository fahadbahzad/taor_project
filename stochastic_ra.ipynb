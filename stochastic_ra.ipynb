{
 "cells": [
  {
   "cell_type": "markdown",
   "metadata": {},
   "source": [
    "This notebook is for running the code in `tiaor.py` for illustrating the use of the stochastic functions."
   ]
  },
  {
   "cell_type": "code",
   "execution_count": 1,
   "metadata": {},
   "outputs": [],
   "source": [
    "import tiaor as t"
   ]
  },
  {
   "cell_type": "code",
   "execution_count": 7,
   "metadata": {},
   "outputs": [],
   "source": [
    "import matplotlib.pyplot as plt"
   ]
  },
  {
   "cell_type": "code",
   "execution_count": 2,
   "metadata": {},
   "outputs": [],
   "source": [
    "# # Example input data 1\n",
    "\n",
    "# pairs = [\"P1\", \"P2\", \"P3\", \"P4\"] \n",
    "# altruistic_donors = [\"NDD1\"]\n",
    "# nodes = pairs + altruistic_donors\n",
    "# edges = {(\"NDD1\", \"P1\"): 2,\n",
    "#          (\"P1\", \"P2\"): 10, \n",
    "#          (\"P2\", \"P3\"): 10,\n",
    "#          (\"P3\", \"P4\"): 10,\n",
    "#          (\"P4\", \"P1\"): 10\n",
    "# }\n",
    "\n",
    "# # Example input data 2\n",
    "\n",
    "# pairs = [\"P1\", \"P2\", \"P3\", \"P4\", \"P5\"] \n",
    "# altruistic_donors = [\"NDD1\"]\n",
    "# nodes = pairs + altruistic_donors\n",
    "# edges = {(\"NDD1\", \"P1\"): 0.1,\n",
    "#          (\"P1\", \"P2\"): 10, \n",
    "#          (\"P2\", \"P3\"): 9,\n",
    "#          (\"P3\", \"P4\"): 8,\n",
    "#          (\"P4\", \"P5\"): 7,\n",
    "#          (\"P5\", \"P1\"): 6\n",
    "# }\n",
    "\n",
    "# Example input data 3\n",
    "\n",
    "pairs = [\"P1\", \"P2\", \"P3\", \"P4\", \"P5\"] \n",
    "altruistic_donors = [\"NDD1\"]\n",
    "nodes = pairs + altruistic_donors\n",
    "edges = {(\"NDD1\", \"P1\"): 0.1,\n",
    "         (\"P1\", \"P2\"): 10, \n",
    "         (\"P2\", \"P3\"): 9,\n",
    "         (\"P3\", \"P4\"): 8,\n",
    "         (\"P4\", \"P5\"): 7\n",
    "}"
   ]
  },
  {
   "cell_type": "code",
   "execution_count": 10,
   "metadata": {},
   "outputs": [
    {
     "name": "stdout",
     "output_type": "stream",
     "text": [
      "FICO Xpress v9.4.2, Community, solve started 20:21:06, Mar 9, 2025\n",
      "Heap usage: 427KB (peak 427KB, 151KB system)\n",
      "Maximizing MILP noname using up to 16 threads and up to 15GB memory, with these control settings:\n",
      "OUTPUTLOG = 1\n",
      "NLPPOSTSOLVE = 1\n",
      "XSLP_DELETIONCONTROL = 0\n",
      "XSLP_OBJSENSE = -1\n",
      "Original problem has:\n",
      "       107 rows           35 cols          155 elements        35 entities\n",
      "Presolved problem has:\n",
      "         0 rows            0 cols            0 elements         0 entities\n",
      "LP relaxation tightened\n",
      "Presolve finished in 0 seconds\n",
      "Heap usage: 424KB (peak 516KB, 151KB system)\n",
      "Will try to keep branch and bound tree memory usage below 8.7GB\n",
      "Starting concurrent solve with dual (1 thread)\n",
      "\n",
      " Concurrent-Solve,   0s\n",
      "            Dual        \n",
      "    objective   dual inf\n",
      " D  9.4000000   .0000000\n",
      "                        \n",
      "------- optimal --------\n",
      "Concurrent statistics:\n",
      "           Dual: 0 simplex iterations, 0.00s\n",
      "Optimal solution found\n",
      " \n",
      "   Its         Obj Value      S   Ninf  Nneg   Sum Dual Inf  Time\n",
      "     0          9.400000      D      0     0        .000000     0\n",
      "Dual solved problem\n",
      "  0 simplex iterations in 0.00 seconds at time 0\n",
      "\n",
      "Final objective                       : 9.400000000000000e+00\n",
      "  Max primal violation      (abs/rel) :       0.0 /       0.0\n",
      "  Max dual violation        (abs/rel) :       0.0 /       0.0\n",
      "  Max complementarity viol. (abs/rel) :       0.0 /       0.0\n",
      "\n",
      "Starting root cutting & heuristics\n",
      "Deterministic mode with up to 3 additional threads\n",
      " \n",
      " Its Type    BestSoln    BestBound   Sols    Add    Del     Gap     GInf   Time\n",
      "*            9.400000     9.400000      1                 -0.00%       0      0\n",
      " *** Search completed ***\n",
      "Uncrunching matrix\n",
      "Final MIP objective                   : 9.400000000000000e+00\n",
      "Final MIP bound                       : 9.400000000000000e+00\n",
      "  Solution time / primaldual integral :      0.05s/ 92.055278%\n",
      "  Number of solutions found / nodes   :         1 /         1\n",
      "  Max primal violation      (abs/rel) :       0.0 /       0.0\n",
      "  Max integer violation     (abs    ) :       0.0\n",
      "\n",
      "##########################################################\n",
      "OPTIMIZATION COMPLETE: no cycles of length more than 3.\n",
      "##########################################################\n",
      "\n",
      "The optimization took 0.0565338134765625 seconds to execute.\n",
      "\n",
      "\n",
      "\n",
      "Total Benefit: 9.4\n",
      "\n",
      "\n",
      "\n"
     ]
    },
    {
     "data": {
      "text/plain": [
       "(9.4, [('NDD1', 'P1'), ('P1', 'P2'), ('P2', 'P3'), ('P3', 'P4')])"
      ]
     },
     "execution_count": 10,
     "metadata": {},
     "output_type": "execute_result"
    }
   ],
   "source": [
    "# TESTING THE generate_simple_scenarios FUNCTION\n",
    "# ----------------------------------------------\n",
    "\n",
    "scenarios_2 = t.generate_simple_scenarios(pairs, altruistic_donors, edges)\n",
    "t.ra(pairs, altruistic_donors, edges, noisy=2, scenarios=scenarios_2)"
   ]
  },
  {
   "cell_type": "code",
   "execution_count": null,
   "metadata": {},
   "outputs": [
    {
     "data": {
      "text/plain": [
       "(array([  2.,   7.,  29., 103., 235., 261., 216., 110.,  28.,   9.]),\n",
       " array([17.7505, 18.4726, 19.1947, 19.9168, 20.6389, 21.361 , 22.0831,\n",
       "        22.8052, 23.5273, 24.2494, 24.9715]),\n",
       " <BarContainer object of 10 artists>)"
      ]
     },
     "execution_count": 9,
     "metadata": {},
     "output_type": "execute_result"
    },
    {
     "data": {
      "image/png": "[encoded data removed]",
      "text/plain": [
       "<Figure size 640x480 with 1 Axes>"
      ]
     },
     "metadata": {},
     "output_type": "display_data"
    }
   ],
   "source": [
    "# TESTING THE generate_probabilistic_scenarios FUNCTION\n",
    "# -----------------------------------------------------\n",
    "\n",
    "nb_scenarios = 200\n",
    "pdp = 0.1 # pair dropout probability\n",
    "pda = 0.1 # NDD dropout probability\n",
    "\n",
    "obj_values = []\n",
    "\n",
    "for i in range(1000):\n",
    "    scenarios = t.generate_probabilistic_scenarios(pairs,altruistic_donors,edges,nb_scenarios,pdp,pda)\n",
    "    obj_values.append(t.ra(pairs,altruistic_donors,edges, noisy=0, scenarios=scenarios)[0])\n",
    "\n",
    "# Plot objective value\n",
    "fig, ax = plt.subplots()\n",
    "ax.hist(obj_values)"
   ]
  }
 ],
 "metadata": {
  "kernelspec": {
   "display_name": "TiAOR",
   "language": "python",
   "name": "python3"
  },
  "language_info": {
   "codemirror_mode": {
    "name": "ipython",
    "version": 3
   },
   "file_extension": ".py",
   "mimetype": "text/x-python",
   "name": "python",
   "nbconvert_exporter": "python",
   "pygments_lexer": "ipython3",
   "version": "3.12.3"
  }
 },
 "nbformat": 4,
 "nbformat_minor": 2
}

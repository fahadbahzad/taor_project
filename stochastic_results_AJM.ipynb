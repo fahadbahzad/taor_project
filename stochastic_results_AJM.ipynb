{
 "cells": [
  {
   "cell_type": "code",
   "execution_count": null,
   "metadata": {},
   "outputs": [],
   "source": [
    "import ra_current as t\n",
    "import Data as data\n",
    "import pandas as pd\n",
    "import time"
   ]
  },
  {
   "cell_type": "code",
   "execution_count": 4,
   "metadata": {},
   "outputs": [],
   "source": [
    "columns = ['dataset','nb_scenarios','time','miprelstop_setting','opt_val','VSS']\n",
    "results_df = pd.DataFrame(columns=columns)"
   ]
  },
  {
   "cell_type": "code",
   "execution_count": null,
   "metadata": {},
   "outputs": [],
   "source": [
    "gap = 0.20"
   ]
  },
  {
   "cell_type": "code",
   "execution_count": null,
   "metadata": {},
   "outputs": [],
   "source": [
    "# P_dropout_pairs = 0.09\n",
    "# P_dropout_altruistic = 0.09"
   ]
  },
  {
   "cell_type": "code",
   "execution_count": null,
   "metadata": {},
   "outputs": [],
   "source": [
    "# order = [(30,2), (40,2), (30,5), (50,2), (60,2), (40,5), (30,10), (70,2), (50,5), (80,2), (40,10), (90,2), (30,20), (60,5), (100,2), (70,5), (50, 10), (40,20), (80,5), (60,10), (90,5), (30, 50), (70,10), (50,20), (100,5), (80,10), (60,20), (40,50), (90, 10), (30,100), (70,20), (100,10), (50,50), (80,20), (40,100), (90,20), (60,50), (100, 20), (70,50), (50,100), (80,50), (60,100), (90,50), (70, 100), (80,100), (90,100), (100,100)]"
   ]
  },
  {
   "cell_type": "code",
   "execution_count": null,
   "metadata": {},
   "outputs": [],
   "source": [
    "P_dropout_list = [0.050, 0.0750, 0.100]"
   ]
  },
  {
   "cell_type": "code",
   "execution_count": null,
   "metadata": {},
   "outputs": [
    {
     "name": "stdout",
     "output_type": "stream",
     "text": [
      "Beginning to work with Dataset30.xlsx with 2 scenarios...\n",
      "Exported to .csv.\n",
      "\n",
      "Beginning to work with Dataset40.xlsx with 2 scenarios...\n",
      "Exported to .csv.\n",
      "\n",
      "Beginning to work with Dataset30.xlsx with 5 scenarios...\n",
      "Exported to .csv.\n",
      "\n",
      "Beginning to work with Dataset50.xlsx with 2 scenarios...\n",
      "Exported to .csv.\n",
      "\n",
      "Beginning to work with Dataset60.xlsx with 2 scenarios...\n",
      "Exported to .csv.\n",
      "\n",
      "Beginning to work with Dataset40.xlsx with 5 scenarios...\n",
      "Exported to .csv.\n",
      "\n",
      "Beginning to work with Dataset30.xlsx with 10 scenarios...\n",
      "Exported to .csv.\n",
      "\n",
      "Beginning to work with Dataset70.xlsx with 2 scenarios...\n",
      "Exported to .csv.\n",
      "\n",
      "Beginning to work with Dataset50.xlsx with 5 scenarios...\n",
      "Exported to .csv.\n",
      "\n",
      "Beginning to work with Dataset80.xlsx with 2 scenarios...\n",
      "Exported to .csv.\n",
      "\n",
      "Beginning to work with Dataset40.xlsx with 10 scenarios...\n",
      "Exported to .csv.\n",
      "\n",
      "Beginning to work with Dataset90.xlsx with 2 scenarios...\n",
      "Exported to .csv.\n",
      "\n",
      "Beginning to work with Dataset30.xlsx with 20 scenarios...\n",
      "Exported to .csv.\n",
      "\n",
      "Beginning to work with Dataset60.xlsx with 5 scenarios...\n",
      "Exported to .csv.\n",
      "\n",
      "Beginning to work with Dataset100.xlsx with 2 scenarios...\n",
      "Exported to .csv.\n",
      "\n",
      "Beginning to work with Dataset70.xlsx with 5 scenarios...\n",
      "Exported to .csv.\n",
      "\n",
      "Beginning to work with Dataset50.xlsx with 10 scenarios...\n",
      "Exported to .csv.\n",
      "\n",
      "Beginning to work with Dataset40.xlsx with 20 scenarios...\n",
      "Exported to .csv.\n",
      "\n",
      "Beginning to work with Dataset80.xlsx with 5 scenarios...\n",
      "Exported to .csv.\n",
      "\n",
      "Beginning to work with Dataset60.xlsx with 10 scenarios...\n",
      "Exported to .csv.\n",
      "\n",
      "Beginning to work with Dataset90.xlsx with 5 scenarios...\n",
      "Exported to .csv.\n",
      "\n",
      "Beginning to work with Dataset30.xlsx with 50 scenarios...\n",
      "Exported to .csv.\n",
      "\n",
      "Beginning to work with Dataset70.xlsx with 10 scenarios...\n",
      "Exported to .csv.\n",
      "\n",
      "Beginning to work with Dataset50.xlsx with 20 scenarios...\n",
      "Exported to .csv.\n",
      "\n",
      "Beginning to work with Dataset100.xlsx with 5 scenarios...\n"
     ]
    }
   ],
   "source": [
    "for situation in order:\n",
    "    file = f\"Dataset{situation[0]}.xlsx\"\n",
    "\n",
    "    print(f\"Beginning to work with {file} with {situation[1]} scenarios...\")\n",
    "    \n",
    "    pairs, altruistic_donors, nodes, edges = data.get_data(file=file)\n",
    "\n",
    "    scenarios = t.generate_probabilistic_scenarios(pairs, altruistic_donors, edges, situation[1], P_dropout_pairs, P_dropout_altruistic)\n",
    "\n",
    "    opt_val, _, time_taken, VSS, _ = t.ra(pairs,altruistic_donors,edges,noisy=0,scenarios=scenarios,gap=gap)\n",
    "\n",
    "    columns = ['dataset','nb_scenarios','time','miprelstop_setting','opt_val','VSS']\n",
    "    results_df = pd.DataFrame(columns=columns)\n",
    "\n",
    "    results_row = {'dataset':situation[0], 'nb_scenarios':situation[1], 'time':time_taken, 'miprelstop_setting':gap, 'opt_val':opt_val, 'VSS':VSS}\n",
    "    results_df.loc[len(results_df)]= results_row\n",
    "    results_df.to_csv(f\"AJM_Test_Data_Situation_{situation[0]}_{situation[1]}.csv\")\n",
    "    print(\"Exported to .csv.\")\n",
    "    print(\"\")"
   ]
  },
  {
   "cell_type": "code",
   "execution_count": 23,
   "metadata": {},
   "outputs": [],
   "source": [
    "# pairs, altruistic_donors, nodes, edges = data.get_data(file=file)\n",
    "\n",
    "# scenarios = t.generate_probabilistic_scenarios(pairs, altruistic_donors, edges, N, P_dropout_pairs, P_dropout_altruistic)\n",
    "\n",
    "# opt_val, _, time_taken, VSS, _ = t.ra(pairs,altruistic_donors,edges,noisy=2,scenarios=scenarios,gap=gap)"
   ]
  }
 ],
 "metadata": {
  "kernelspec": {
   "display_name": "TiAOR",
   "language": "python",
   "name": "python3"
  },
  "language_info": {
   "codemirror_mode": {
    "name": "ipython",
    "version": 3
   },
   "file_extension": ".py",
   "mimetype": "text/x-python",
   "name": "python",
   "nbconvert_exporter": "python",
   "pygments_lexer": "ipython3",
   "version": "3.12.3"
  }
 },
 "nbformat": 4,
 "nbformat_minor": 2
}

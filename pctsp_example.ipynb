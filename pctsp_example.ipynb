{
 "cells": [
  {
   "cell_type": "code",
   "execution_count": 1,
   "metadata": {},
   "outputs": [],
   "source": [
    "# Import the required modules\n",
    "from pctstp import *\n",
    "from data import *"
   ]
  },
  {
   "cell_type": "code",
   "execution_count": 2,
   "metadata": {},
   "outputs": [],
   "source": [
    "# Generate the required data for the PC-TSP algorithm\n",
    "G, pairs, altruistic_donors, nodes, edges, all_cycles = get_data(file=\"data/Dataset23.xlsx\", max_cycle=3, pc_tsp=True)"
   ]
  },
  {
   "cell_type": "code",
   "execution_count": 3,
   "metadata": {},
   "outputs": [
    {
     "name": "stderr",
     "output_type": "stream",
     "text": [
      "c:\\Users\\fbahz\\OneDrive\\3. The University of Edinburgh\\2. Semester 2\\Topics in Applied Operational Research\\Project\\taor_project\\pctstp.py:220: LicenseWarning: Using the license file found in your Xpress installation. If you want to use this license and no longer want to see this message, use the following code before using the xpress module:\n",
      "  xpress.init('C:/xpressmp/bin/xpauth.xpr')\n",
      "\n",
      "  model = xp.problem()\n"
     ]
    },
    {
     "name": "stdout",
     "output_type": "stream",
     "text": [
      "FICO Xpress v9.4.2, Hyper, solve started 9:34:23, Mar 27, 2025\n",
      "Heap usage: 1796KB (peak 1796KB, 214KB system)\n",
      "Maximizing MILP noname using up to 14 threads and up to 15GB memory, with these control settings:\n",
      "MAXTIME = 1200\n",
      "OUTPUTLOG = 1\n",
      "MIPRELSTOP = .01\n",
      "NLPPOSTSOLVE = 1\n",
      "XSLP_DELETIONCONTROL = 0\n",
      "XSLP_OBJSENSE = -1\n",
      "Original problem has:\n",
      "       805 rows         4206 cols         9122 elements      4206 entities\n",
      "Presolved problem has:\n",
      "       475 rows         3903 cols         8924 elements      3903 entities\n",
      "Presolve finished in 0 seconds\n",
      "Heap usage: 2701KB (peak 3867KB, 214KB system)\n",
      "\n",
      "Coefficient range                    original                 solved        \n",
      "  Coefficients   [min,max] : [ 1.00e+00,  1.00e+00] / [ 1.00e+00,  1.00e+00]\n",
      "  RHS and bounds [min,max] : [ 1.00e+00,  1.00e+00] / [ 1.00e+00,  1.00e+00]\n",
      "  Objective      [min,max] : [ 1.00e+00,  2.49e+02] / [ 1.00e+00,  2.49e+02]\n",
      "Autoscaling applied standard scaling\n",
      "\n",
      "Will try to keep branch and bound tree memory usage below 8.6GB\n",
      " *** Solution found:      .000000   Time:   0.11    Heuristic: T ***\n",
      " *** Solution found:  4327.000000   Time:   0.13    Heuristic: e ***\n",
      "Starting concurrent solve with dual (1 thread), primal (1 thread) and barrier (12 threads)\n",
      "\n",
      "                           Concurrent-Solve,   0s\n",
      "            Dual                      Primal                     Barrier      \n",
      "    objective   dual inf                                                      \n",
      " D  9023.0000   .0000000 |                          |                         \n",
      "                         |                          |                         \n",
      "------- optimal -------- | ----- interrupted ------ | ----- interrupted ------\n",
      "Concurrent statistics:\n",
      "           Dual: 931 simplex iterations, 0.02s\n",
      "         Primal: 2619 simplex iterations, 0.02s\n",
      "        Barrier: 0 barrier and 0 simplex iterations, 0.02s\n",
      "            Barrier used 12 threads 12 cores\n",
      "            Barrier used AVX2 support\n",
      "Optimal solution found\n",
      " \n",
      "   Its         Obj Value      S   Ninf  Nneg   Sum Dual Inf  Time\n",
      "   931       9023.000000      D      0     0        .000000     0\n",
      "Dual solved problem\n",
      "  931 simplex iterations in 0.02 seconds at time 0\n",
      "\n",
      "Final objective                       : 9.023000000000000e+03\n",
      "  Max primal violation      (abs/rel) :       0.0 /       0.0\n",
      "  Max dual violation        (abs/rel) :       0.0 /       0.0\n",
      "  Max complementarity viol. (abs/rel) :       0.0 /       0.0\n",
      "\n",
      "Starting root cutting & heuristics\n",
      "Deterministic mode with up to 1 additional thread\n",
      " \n",
      " Its Type    BestSoln    BestBound   Sols    Add    Del     Gap     GInf   Time\n",
      "P         4386.000000  9023.000000      3                 51.39%       0      0\n",
      "Heuristic search 'R' started\n",
      "R         4501.000000  9023.000000      4                 50.12%       0      1\n",
      "Heuristic search 'R' stopped\n",
      "M         4659.000000  9023.000000      5                 48.37%       0      1\n",
      "M         4816.000000  9023.000000      6                 46.63%       0      1\n",
      "M         4866.000000  9023.000000      7                 46.07%       0      1\n",
      "M         5000.000000  9023.000000      8                 44.59%       0      1\n",
      "M         5215.000000  9023.000000      9                 42.20%       0      1\n",
      "M         5331.000000  9023.000000     10                 40.92%       0      1\n",
      "M         5487.000000  9023.000000     11                 39.19%       0      1\n",
      "M         5543.000000  9023.000000     12                 38.57%       0      1\n",
      "M         5606.000000  9023.000000     13                 37.87%       0      1\n",
      "M         5682.000000  9023.000000     14                 37.03%       0      1\n",
      "M         6821.000000  9023.000000     15                 24.40%       0      3\n",
      "M         6846.000000  9023.000000     16                 24.13%       0      3\n",
      "M         6939.000000  9023.000000     17                 23.10%       0      3\n",
      "M         7136.000000  9023.000000     18                 20.91%       0      4\n",
      "P         7578.000000  9023.000000     19                 16.01%       0      6\n",
      "P         8093.000000  9023.000000     20                 10.31%       0      7\n",
      "P         8221.000000  9023.000000     21                  8.89%       0      8\n",
      "P         8241.000000  9023.000000     22                  8.67%       0      9\n",
      "P         8280.000000  9023.000000     23                  8.23%       0     10\n",
      "P         8297.000000  9023.000000     24                  8.05%       0     10\n",
      "P         8345.000000  9023.000000     25                  7.51%       0     11\n",
      "*         9021.000000  9021.000000     26                 -0.00%       0     13\n",
      " *** Search completed ***\n",
      "Uncrunching matrix\n",
      "Final MIP objective                   : 9.021000000000000e+03\n",
      "Final MIP bound                       : 9.021000000000000e+03\n",
      "  Solution time / primaldual integral :     13.39s/ 24.142781%\n",
      "  Number of solutions found / nodes   :        26 /         1\n",
      "  Max primal violation      (abs/rel) :       0.0 /       0.0\n",
      "  Max integer violation     (abs    ) :       0.0\n"
     ]
    }
   ],
   "source": [
    "# Solve the problem and extract the outputs\n",
    "opt_val, selected_edges, selected_cycles, time_taken = pctsp(G, pairs, altruistic_donors, nodes, edges, all_cycles, noisy=1)"
   ]
  }
 ],
 "metadata": {
  "kernelspec": {
   "display_name": "Xpress",
   "language": "python",
   "name": "python3"
  },
  "language_info": {
   "codemirror_mode": {
    "name": "ipython",
    "version": 3
   },
   "file_extension": ".py",
   "mimetype": "text/x-python",
   "name": "python",
   "nbconvert_exporter": "python",
   "pygments_lexer": "ipython3",
   "version": "3.12.7"
  }
 },
 "nbformat": 4,
 "nbformat_minor": 2
}

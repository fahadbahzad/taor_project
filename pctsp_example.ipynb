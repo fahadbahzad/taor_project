{
 "cells": [
  {
   "cell_type": "code",
   "execution_count": 1,
   "metadata": {},
   "outputs": [],
   "source": [
    "from pctstp import *\n",
    "from data import *"
   ]
  },
  {
   "cell_type": "code",
   "execution_count": 10,
   "metadata": {},
   "outputs": [],
   "source": [
    "G, pairs, altruistic_donors, nodes, edges, all_cycles = get_data(file=\"data/Dataset3.xlsx\", max_cycle=3, pc_tsp=True)"
   ]
  },
  {
   "cell_type": "code",
   "execution_count": 11,
   "metadata": {},
   "outputs": [
    {
     "name": "stdout",
     "output_type": "stream",
     "text": [
      "FICO Xpress v9.4.2, Hyper, solve started 9:58:45, Mar 11, 2025\n",
      "Heap usage: 2925KB (peak 2925KB, 234KB system)\n",
      "Maximizing MILP noname using up to 14 threads and up to 15GB memory, with these control settings:\n",
      "OUTPUTLOG = 1\n",
      "NLPPOSTSOLVE = 1\n",
      "XSLP_DELETIONCONTROL = 0\n",
      "XSLP_OBJSENSE = -1\n",
      "Original problem has:\n",
      "      1070 rows         7152 cols        15590 elements      7152 entities\n",
      "Presolved problem has:\n",
      "       646 rows         6763 cols        15436 elements      6763 entities\n",
      "Presolve finished in 0 seconds\n",
      "Heap usage: 4446KB (peak 6222KB, 234KB system)\n",
      "\n",
      "Coefficient range                    original                 solved        \n",
      "  Coefficients   [min,max] : [ 1.00e+00,  1.00e+00] / [ 1.00e+00,  1.00e+00]\n",
      "  RHS and bounds [min,max] : [ 1.00e+00,  1.00e+00] / [ 1.00e+00,  1.00e+00]\n",
      "  Objective      [min,max] : [ 1.00e+00,  2.52e+02] / [ 1.00e+00,  2.52e+02]\n",
      "Autoscaling applied standard scaling\n",
      "\n",
      "Will try to keep branch and bound tree memory usage below 8.4GB\n",
      " *** Solution found:      .000000   Time:   0.14    Heuristic: T ***\n",
      " *** Solution found:  4866.000000   Time:   0.16    Heuristic: e ***\n",
      "Starting concurrent solve with dual (1 thread), primal (1 thread) and barrier (12 threads)\n",
      "\n",
      "                           Concurrent-Solve,   0s\n",
      "            Dual                      Primal                     Barrier      \n",
      "    objective   dual inf                                                      \n",
      " D  11447.000   .0000000 |                          |                         \n",
      "                         |                          |                         \n",
      "------- optimal -------- | ----- interrupted ------ | ----- interrupted ------\n",
      "Concurrent statistics:\n",
      "           Dual: 1002 simplex iterations, 0.02s\n",
      "         Primal: 1493 simplex iterations, 0.02s\n",
      "        Barrier: 0 barrier and 0 simplex iterations, 0.02s\n",
      "            Barrier used 12 threads 12 cores\n",
      "            Barrier used AVX2 support\n",
      "Optimal solution found\n",
      " \n",
      "   Its         Obj Value      S   Ninf  Nneg   Sum Dual Inf  Time\n",
      "  1002       11447.00000      D      0     0        .000000     0\n",
      "Dual solved problem\n",
      "  1002 simplex iterations in 0.02 seconds at time 0\n",
      "\n",
      "Final objective                       : 1.144700000000000e+04\n",
      "  Max primal violation      (abs/rel) :       0.0 /       0.0\n",
      "  Max dual violation        (abs/rel) :       0.0 /       0.0\n",
      "  Max complementarity viol. (abs/rel) :       0.0 /       0.0\n",
      "\n",
      "Starting root cutting & heuristics\n",
      "Deterministic mode with up to 1 additional thread\n",
      " \n",
      " Its Type    BestSoln    BestBound   Sols    Add    Del     Gap     GInf   Time\n",
      "P         4934.000000  11447.00000      3                 56.90%       0      3\n",
      "P         4956.000000  11447.00000      4                 56.70%       0      3\n",
      "Heuristic search 'R' started\n",
      "R         5190.000000  11447.00000      5                 54.66%       0      7\n",
      "Heuristic search 'R' stopped\n",
      "M         5333.000000  11447.00000      6                 53.41%       0      8\n",
      "M         5525.000000  11447.00000      7                 51.73%       0      8\n",
      "M         5586.000000  11447.00000      8                 51.20%       0      8\n",
      "M         5654.000000  11447.00000      9                 50.61%       0      8\n",
      "M         5728.000000  11447.00000     10                 49.96%       0      8\n",
      "M         5887.000000  11447.00000     11                 48.57%       0      8\n",
      "M         6034.000000  11447.00000     12                 47.29%       0      8\n",
      "M         6103.000000  11447.00000     13                 46.68%       0      8\n",
      "M         6231.000000  11447.00000     14                 45.57%       0      8\n",
      "M         6323.000000  11447.00000     15                 44.76%       0      8\n",
      "M         6479.000000  11447.00000     16                 43.40%       0      8\n",
      "M         6530.000000  11447.00000     17                 42.95%       0      8\n",
      "M         6682.000000  11447.00000     18                 41.63%       0      8\n",
      "M         6777.000000  11447.00000     19                 40.80%       0      9\n",
      "M         6900.000000  11447.00000     20                 39.72%       0      9\n",
      "M         6981.000000  11447.00000     21                 39.01%       0      9\n",
      "M         7146.000000  11447.00000     22                 37.57%       0      9\n",
      "M         7255.000000  11447.00000     23                 36.62%       0      9\n",
      "M         7882.000000  11447.00000     24                 31.14%       0     10\n",
      "M         8030.000000  11447.00000     25                 29.85%       0     10\n",
      " *** Search completed ***\n",
      "Uncrunching matrix\n",
      "Final MIP objective                   : 8.030000000000000e+03\n",
      "Final MIP bound                       : 8.030000000000000e+03\n",
      "  Solution time / primaldual integral :     17.93s/ 51.073954%\n",
      "  Number of solutions found / nodes   :        25 /         1\n",
      "  Max primal violation      (abs/rel) :       0.0 /       0.0\n",
      "  Max integer violation     (abs    ) :       0.0\n",
      "mip_optimal\n"
     ]
    }
   ],
   "source": [
    "opt_val, selected_edges, selected_cycles, time_taken = pctsp(G, pairs, altruistic_donors, nodes, edges, all_cycles, noisy=1)"
   ]
  },
  {
   "cell_type": "code",
   "execution_count": 13,
   "metadata": {},
   "outputs": [
    {
     "data": {
      "text/plain": [
       "[(0.0, 239.0, 1.0),\n",
       " (2.0, 265.0, 90.0),\n",
       " (5.0, 175.0, 189.0),\n",
       " (12.0, 146.0, 174.0),\n",
       " (14.0, 299.0, 196.0),\n",
       " (16.0, 66.0, 22.0),\n",
       " (19.0, 40.0, 172.0),\n",
       " (21.0, 180.0, 132.0),\n",
       " (28.0, 220.0, 110.0),\n",
       " (35.0, 184.0, 143.0),\n",
       " (37.0, 281.0, 88.0),\n",
       " (43.0, 102.0, 260.0),\n",
       " (51.0, 271.0, 269.0),\n",
       " (55.0, 163.0, 285.0),\n",
       " (61.0, 72.0, 162.0),\n",
       " (75.0, 240.0, 259.0),\n",
       " (80.0, 135.0, 105.0),\n",
       " (94.0, 203.0, 154.0),\n",
       " (97.0, 288.0, 153.0),\n",
       " (100.0, 170.0, 264.0),\n",
       " (106.0, 294.0, 176.0),\n",
       " (107.0, 197.0, 127.0),\n",
       " (108.0, 218.0, 156.0),\n",
       " (113.0, 151.0, 300.0),\n",
       " (115.0, 123.0, 252.0),\n",
       " (140.0, 242.0, 173.0),\n",
       " (166.0, 289.0, 227.0),\n",
       " (188.0, 307.0, 246.0),\n",
       " (193.0, 228.0, 221.0),\n",
       " (230.0, 266.0, 308.0),\n",
       " (233.0, 253.0, 202.0),\n",
       " (262.0, 302.0, 267.0)]"
      ]
     },
     "execution_count": 13,
     "metadata": {},
     "output_type": "execute_result"
    }
   ],
   "source": [
    "opt_val\n",
    "selected_cycles\n",
    "#selected_edges"
   ]
  }
 ],
 "metadata": {
  "kernelspec": {
   "display_name": "Xpress",
   "language": "python",
   "name": "python3"
  },
  "language_info": {
   "codemirror_mode": {
    "name": "ipython",
    "version": 3
   },
   "file_extension": ".py",
   "mimetype": "text/x-python",
   "name": "python",
   "nbconvert_exporter": "python",
   "pygments_lexer": "ipython3",
   "version": "3.12.7"
  }
 },
 "nbformat": 4,
 "nbformat_minor": 2
}

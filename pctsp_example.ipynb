{
 "cells": [
  {
   "cell_type": "code",
   "execution_count": 1,
   "metadata": {},
   "outputs": [],
   "source": [
    "from pctstp import *\n",
    "from data import *"
   ]
  },
  {
   "cell_type": "code",
   "execution_count": 8,
   "metadata": {},
   "outputs": [],
   "source": [
    "G, pairs, altruistic_donors, nodes, edges, all_cycles = get_data(file=\"data/Dataset23.xlsx\", max_cycle=3, pc_tsp=True)"
   ]
  },
  {
   "cell_type": "code",
   "execution_count": 9,
   "metadata": {},
   "outputs": [
    {
     "name": "stdout",
     "output_type": "stream",
     "text": [
      "FICO Xpress v9.4.2, Hyper, solve started 15:17:24, Mar 13, 2025\n",
      "Heap usage: 1796KB (peak 1796KB, 241KB system)\n",
      "Maximizing MILP noname using up to 14 threads and up to 15GB memory, with these control settings:\n",
      "MAXTIME = 600\n",
      "OUTPUTLOG = 1\n",
      "MIPRELSTOP = .01\n",
      "NLPPOSTSOLVE = 1\n",
      "XSLP_DELETIONCONTROL = 0\n",
      "XSLP_OBJSENSE = -1\n",
      "Original problem has:\n",
      "       805 rows         4206 cols         9122 elements      4206 entities\n",
      "Presolved problem has:\n",
      "       475 rows         3903 cols         8924 elements      3903 entities\n",
      "Presolve finished in 0 seconds\n",
      "Heap usage: 2701KB (peak 3867KB, 241KB system)\n",
      "\n",
      "Coefficient range                    original                 solved        \n",
      "  Coefficients   [min,max] : [ 1.00e+00,  1.00e+00] / [ 1.00e+00,  1.00e+00]\n",
      "  RHS and bounds [min,max] : [ 1.00e+00,  1.00e+00] / [ 1.00e+00,  1.00e+00]\n",
      "  Objective      [min,max] : [ 1.00e+00,  2.49e+02] / [ 1.00e+00,  2.49e+02]\n",
      "Autoscaling applied standard scaling\n",
      "\n",
      "Will try to keep branch and bound tree memory usage below 8.5GB\n",
      " *** Solution found:      .000000   Time:   0.05    Heuristic: T ***\n",
      " *** Solution found:  4327.000000   Time:   0.06    Heuristic: e ***\n",
      "Starting concurrent solve with dual (1 thread), primal (1 thread) and barrier (12 threads)\n",
      "\n",
      "                           Concurrent-Solve,   0s\n",
      "            Dual                      Primal                     Barrier      \n",
      "    objective   dual inf                                                      \n",
      " D  9023.0000   .0000000 |                          |                         \n",
      "                         |                          |                         \n",
      "------- optimal -------- | ----- interrupted ------ | ----- interrupted ------\n",
      "Concurrent statistics:\n",
      "           Dual: 931 simplex iterations, 0.01s\n",
      "         Primal: 2211 simplex iterations, 0.01s\n",
      "        Barrier: 1 barrier and 0 simplex iterations, 0.01s\n",
      "            Barrier used 12 threads 12 cores\n",
      "            Barrier used AVX2 support\n",
      "Optimal solution found\n",
      " \n",
      "   Its         Obj Value      S   Ninf  Nneg   Sum Dual Inf  Time\n",
      "   931       9023.000000      D      0     0        .000000     0\n",
      "Dual solved problem\n",
      "  931 simplex iterations in 0.02 seconds at time 0\n",
      "\n",
      "Final objective                       : 9.023000000000000e+03\n",
      "  Max primal violation      (abs/rel) :       0.0 /       0.0\n",
      "  Max dual violation        (abs/rel) :       0.0 /       0.0\n",
      "  Max complementarity viol. (abs/rel) :       0.0 /       0.0\n",
      "\n",
      "Starting root cutting & heuristics\n",
      "Deterministic mode with up to 1 additional thread\n",
      " \n",
      " Its Type    BestSoln    BestBound   Sols    Add    Del     Gap     GInf   Time\n",
      "P         4386.000000  9023.000000      3                 51.39%       0      0\n",
      "Heuristic search 'R' started\n",
      "R         4501.000000  9023.000000      4                 50.12%       0      1\n",
      "Heuristic search 'R' stopped\n",
      "M         4659.000000  9023.000000      5                 48.37%       0      1\n",
      "M         4816.000000  9023.000000      6                 46.63%       0      1\n",
      "M         4866.000000  9023.000000      7                 46.07%       0      1\n",
      "M         5000.000000  9023.000000      8                 44.59%       0      1\n",
      "M         5215.000000  9023.000000      9                 42.20%       0      1\n",
      "M         5331.000000  9023.000000     10                 40.92%       0      1\n",
      "M         5487.000000  9023.000000     11                 39.19%       0      1\n",
      "M         5543.000000  9023.000000     12                 38.57%       0      1\n",
      "M         5606.000000  9023.000000     13                 37.87%       0      1\n",
      "M         5682.000000  9023.000000     14                 37.03%       0      1\n",
      "M         6821.000000  9023.000000     15                 24.40%       0      2\n",
      "M         6846.000000  9023.000000     16                 24.13%       0      2\n",
      "M         6939.000000  9023.000000     17                 23.10%       0      2\n",
      "M         7136.000000  9023.000000     18                 20.91%       0      3\n",
      "P         7578.000000  9023.000000     19                 16.01%       0      4\n",
      "P         8093.000000  9023.000000     20                 10.31%       0      5\n",
      "P         8221.000000  9023.000000     21                  8.89%       0      5\n",
      "P         8241.000000  9023.000000     22                  8.67%       0      5\n",
      "P         8280.000000  9023.000000     23                  8.23%       0      6\n",
      "P         8297.000000  9023.000000     24                  8.05%       0      6\n",
      "P         8345.000000  9023.000000     25                  7.51%       0      7\n",
      "*         9021.000000  9021.000000     26                 -0.00%       0      8\n",
      " *** Search completed ***\n",
      "Uncrunching matrix\n",
      "Final MIP objective                   : 9.021000000000000e+03\n",
      "Final MIP bound                       : 9.021000000000000e+03\n",
      "  Solution time / primaldual integral :      8.34s/ 26.186659%\n",
      "  Number of solutions found / nodes   :        26 /         1\n",
      "  Max primal violation      (abs/rel) :       0.0 /       0.0\n",
      "  Max integer violation     (abs    ) :       0.0\n"
     ]
    }
   ],
   "source": [
    "opt_val, selected_edges, selected_cycles, time_taken = pctsp(G, pairs, altruistic_donors, nodes, edges, all_cycles, noisy=1)"
   ]
  },
  {
   "cell_type": "code",
   "execution_count": 10,
   "metadata": {},
   "outputs": [
    {
     "data": {
      "text/plain": [
       "9021.0"
      ]
     },
     "execution_count": 10,
     "metadata": {},
     "output_type": "execute_result"
    }
   ],
   "source": [
    "opt_val"
   ]
  },
  {
   "cell_type": "code",
   "execution_count": null,
   "metadata": {},
   "outputs": [],
   "source": [
    "import matplotlib.pyplot as plt\n",
    "\n",
    "def solution_network(edges, cycles):\n",
    "    G = nx.DiGraph() \n",
    "\n",
    "    # Add edges\n",
    "    for e in edges:\n",
    "        G.add_edge(e[0], e[1])\n",
    "\n",
    "    # Keep track of which edges are in cycles\n",
    "    cycle_edges = set()\n",
    "\n",
    "    # Add cycles\n",
    "    for c in cycles:\n",
    "        for i in range(len(c)):\n",
    "            u, v = c[i], c[(i + 1) % len(c)]\n",
    "            G.add_edge(u, v)\n",
    "            cycle_edges.add((u, v))\n",
    "\n",
    "    plt.figure(figsize=(12, 10))\n",
    "    pos = nx.spring_layout(G)  \n",
    "\n",
    "    nx.draw_networkx_nodes(G, pos, node_color='lightblue', node_size=300)\n",
    "\n",
    "    non_cycle_edges = [e for e in G.edges() if e not in cycle_edges]\n",
    "    nx.draw_networkx_edges(G, pos, edgelist=non_cycle_edges, edge_color='black', arrows=True)\n",
    "\n",
    "    nx.draw_networkx_edges(G, pos, edgelist=list(cycle_edges), edge_color='red', width=2, arrows=True)\n",
    "\n",
    "    nx.draw_networkx_labels(G, pos, font_size=8, font_weight='bold')\n",
    "    \n",
    "    plt.title(\"Solution Network\")\n",
    "    plt.show()\n",
    "\n",
    "    return G\n",
    "\n",
    "check = solution_network(selected_edges, selected_cycles)\n",
    "cycles_check = max(map(len,list(nx.simple_cycles(check))))\n",
    "\n",
    "print(cycles_check)"
   ]
  },
  {
   "cell_type": "code",
   "execution_count": 7,
   "metadata": {},
   "outputs": [
    {
     "name": "stdout",
     "output_type": "stream",
     "text": [
      "\n",
      "##########################################################\n",
      "OPTIMIZATION COMPLETE: no cycles of length more than 3.\n",
      "##########################################################\n",
      "\n",
      "The optimization took 0.5301525592803955 seconds to execute.\n",
      "\n",
      "\n",
      "\n",
      "Total Benefit: 12374.0\n",
      "\n",
      "\n",
      "\n",
      "12374.0\n"
     ]
    }
   ],
   "source": [
    "from tiaor import *\n",
    "opt_val2, solution_edges2, _, _, _ = ra(pairs, altruistic_donors, edges, noisy=1)\n",
    "\n",
    "print(opt_val2)\n",
    "\n",
    "# solution_network(solution_edges2, [])"
   ]
  },
  {
   "cell_type": "code",
   "execution_count": null,
   "metadata": {},
   "outputs": [],
   "source": [
    "solution_edges2"
   ]
  },
  {
   "cell_type": "code",
   "execution_count": null,
   "metadata": {},
   "outputs": [],
   "source": [
    "solution_edges2\n",
    "selected_edges\n",
    "\n",
    "# Find elements in solution_edges2  but not in selected_edges\n",
    "unique_to_selected_edges = set(solution_edges2).difference(set(selected_edges))\n",
    "\n",
    "# Convert back to a list if needed\n",
    "unique_to_selected_edges_list = list(unique_to_selected_edges)\n",
    "\n",
    "for e in unique_to_selected_edges_list:\n",
    "    print(e)"
   ]
  }
 ],
 "metadata": {
  "kernelspec": {
   "display_name": "Xpress",
   "language": "python",
   "name": "python3"
  },
  "language_info": {
   "codemirror_mode": {
    "name": "ipython",
    "version": 3
   },
   "file_extension": ".py",
   "mimetype": "text/x-python",
   "name": "python",
   "nbconvert_exporter": "python",
   "pygments_lexer": "ipython3",
   "version": "3.12.7"
  }
 },
 "nbformat": 4,
 "nbformat_minor": 2
}

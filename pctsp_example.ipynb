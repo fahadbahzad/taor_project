{
 "cells": [
  {
   "cell_type": "code",
   "execution_count": null,
   "metadata": {},
   "outputs": [],
   "source": [
    "from pctstp import *\n",
    "from data import *"
   ]
  },
  {
   "cell_type": "code",
   "execution_count": null,
   "metadata": {},
   "outputs": [],
   "source": [
    "G, pairs, altruistic_donors, nodes, edges, all_cycles = get_data(file=\"data/Dataset16.xlsx\", max_cycle=3, pc_tsp=True)"
   ]
  },
  {
   "cell_type": "code",
   "execution_count": null,
   "metadata": {},
   "outputs": [],
   "source": [
    "opt_val, selected_edges, selected_cycles, time_taken = pctsp(G, pairs, altruistic_donors, nodes, edges, all_cycles, noisy=1)"
   ]
  },
  {
   "cell_type": "code",
   "execution_count": null,
   "metadata": {},
   "outputs": [],
   "source": [
    "opt_val"
   ]
  },
  {
   "cell_type": "code",
   "execution_count": null,
   "metadata": {},
   "outputs": [],
   "source": [
    "import matplotlib.pyplot as plt\n",
    "\n",
    "def solution_network(edges, cycles):\n",
    "    G = nx.DiGraph() \n",
    "\n",
    "    # Add edges\n",
    "    for e in edges:\n",
    "        G.add_edge(e[0], e[1])\n",
    "\n",
    "    # Keep track of which edges are in cycles\n",
    "    cycle_edges = set()\n",
    "\n",
    "    # Add cycles\n",
    "    for c in cycles:\n",
    "        for i in range(len(c)):\n",
    "            u, v = c[i], c[(i + 1) % len(c)]\n",
    "            G.add_edge(u, v)\n",
    "            cycle_edges.add((u, v))\n",
    "\n",
    "    plt.figure(figsize=(12, 10))\n",
    "    pos = nx.spring_layout(G)  \n",
    "\n",
    "    nx.draw_networkx_nodes(G, pos, node_color='lightblue', node_size=300)\n",
    "\n",
    "    non_cycle_edges = [e for e in G.edges() if e not in cycle_edges]\n",
    "    nx.draw_networkx_edges(G, pos, edgelist=non_cycle_edges, edge_color='black', arrows=True)\n",
    "\n",
    "    nx.draw_networkx_edges(G, pos, edgelist=list(cycle_edges), edge_color='red', width=2, arrows=True)\n",
    "\n",
    "    nx.draw_networkx_labels(G, pos, font_size=8, font_weight='bold')\n",
    "    \n",
    "    plt.title(\"Solution Network\")\n",
    "    plt.show()\n",
    "\n",
    "    return G\n",
    "\n",
    "check = solution_network(selected_edges, selected_cycles)\n",
    "cycles_check = max(map(len,list(nx.simple_cycles(check))))\n",
    "\n",
    "print(cycles_check)"
   ]
  },
  {
   "cell_type": "code",
   "execution_count": null,
   "metadata": {},
   "outputs": [],
   "source": [
    "from tiaor import *\n",
    "opt_val2, solution_edges2, _, _, _ = ra(pairs, altruistic_donors, edges, noisy=1)\n",
    "\n",
    "print(opt_val2)\n",
    "\n",
    "# solution_network(solution_edges2, [])"
   ]
  },
  {
   "cell_type": "code",
   "execution_count": null,
   "metadata": {},
   "outputs": [],
   "source": [
    "solution_edges2"
   ]
  },
  {
   "cell_type": "code",
   "execution_count": null,
   "metadata": {},
   "outputs": [],
   "source": [
    "solution_edges2\n",
    "selected_edges\n",
    "\n",
    "# Find elements in solution_edges2  but not in selected_edges\n",
    "unique_to_selected_edges = set(solution_edges2).difference(set(selected_edges))\n",
    "\n",
    "# Convert back to a list if needed\n",
    "unique_to_selected_edges_list = list(unique_to_selected_edges)\n",
    "\n",
    "for e in unique_to_selected_edges_list:\n",
    "    print(e)"
   ]
  }
 ],
 "metadata": {
  "kernelspec": {
   "display_name": "Xpress",
   "language": "python",
   "name": "python3"
  },
  "language_info": {
   "codemirror_mode": {
    "name": "ipython",
    "version": 3
   },
   "file_extension": ".py",
   "mimetype": "text/x-python",
   "name": "python",
   "nbconvert_exporter": "python",
   "pygments_lexer": "ipython3",
   "version": "3.12.7"
  }
 },
 "nbformat": 4,
 "nbformat_minor": 2
}

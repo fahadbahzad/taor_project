{
 "cells": [
  {
   "cell_type": "code",
   "execution_count": 1,
   "metadata": {},
   "outputs": [],
   "source": [
    "# Imports\n",
    "import xpress as xp\n",
    "import networkx as nx\n",
    "\n",
    "# NetworkX tutorial available here: \n",
    "# https://networkx.org/documentation/stable/tutorial.html"
   ]
  },
  {
   "cell_type": "code",
   "execution_count": 2,
   "metadata": {},
   "outputs": [],
   "source": [
    "# Parameters for the optimization:\n",
    "k = 3 # max cycle length"
   ]
  },
  {
   "cell_type": "code",
   "execution_count": 3,
   "metadata": {},
   "outputs": [],
   "source": [
    "# # Example input data 1\n",
    "\n",
    "# pairs = [\"P1\", \"P2\", \"P3\", \"P4\"] \n",
    "# altruistic_donors = [\"NDD1\"]\n",
    "# nodes = pairs + altruistic_donors\n",
    "# edges = {(\"NDD1\", \"P1\"): 2,\n",
    "#          (\"P1\", \"P2\"): 10, \n",
    "#          (\"P2\", \"P3\"): 10,\n",
    "#          (\"P3\", \"P4\"): 10,\n",
    "#          (\"P4\", \"P1\"): 10\n",
    "# }\n",
    "\n",
    "# Example input data 2\n",
    "\n",
    "pairs = [\"P1\", \"P2\", \"P3\", \"P4\", \"P5\"] \n",
    "altruistic_donors = [\"NDD1\"]\n",
    "nodes = pairs + altruistic_donors\n",
    "edges = {(\"NDD1\", \"P1\"): 0.1,\n",
    "         (\"P1\", \"P2\"): 10, \n",
    "         (\"P2\", \"P3\"): 9,\n",
    "         (\"P3\", \"P4\"): 8,\n",
    "         (\"P4\", \"P5\"): 7,\n",
    "         (\"P5\", \"P1\"): 6\n",
    "}\n",
    "\n",
    "## Example input data 3\n",
    "\n",
    "# pairs = [\"P1\", \"P2\", \"P3\", \"P4\", \"P5\"] \n",
    "# altruistic_donors = [\"NDD1\"]\n",
    "# nodes = pairs + altruistic_donors\n",
    "# edges = {(\"NDD1\", \"P1\"): 0.1,\n",
    "#          (\"P1\", \"P2\"): 10, \n",
    "#          (\"P2\", \"P3\"): 9,\n",
    "#          (\"P3\", \"P4\"): 8,\n",
    "#          (\"P4\", \"P5\"): 7\n",
    "# }"
   ]
  },
  {
   "cell_type": "code",
   "execution_count": 55,
   "metadata": {},
   "outputs": [
    {
     "data": {
      "text/plain": [
       "[('NDD1', 'P1'),\n",
       " ('P1', 'P2'),\n",
       " ('P2', 'P3'),\n",
       " ('P3', 'P4'),\n",
       " ('P4', 'P5'),\n",
       " ('P5', 'P1')]"
      ]
     },
     "execution_count": 55,
     "metadata": {},
     "output_type": "execute_result"
    }
   ],
   "source": [
    "AB = list(edges.keys())\n",
    "AB"
   ]
  },
  {
   "cell_type": "code",
   "execution_count": 56,
   "metadata": {},
   "outputs": [],
   "source": [
    "AC = [AB[i] for i, e in enumerate(AB) if opt_sol[i]==1]"
   ]
  },
  {
   "cell_type": "code",
   "execution_count": 57,
   "metadata": {},
   "outputs": [
    {
     "data": {
      "text/plain": [
       "[('P1', 'P2'), ('P2', 'P3'), ('P3', 'P4'), ('P4', 'P5'), ('P5', 'P1')]"
      ]
     },
     "execution_count": 57,
     "metadata": {},
     "output_type": "execute_result"
    }
   ],
   "source": [
    "AC"
   ]
  },
  {
   "cell_type": "code",
   "execution_count": null,
   "metadata": {},
   "outputs": [],
   "source": [
    "def myCallback(prob, data, isheuristic, cutoff):\n",
    "    print(\"CALLBACK TRIGGERED\")\n",
    "    return (0, None)"
   ]
  },
  {
   "cell_type": "code",
   "execution_count": null,
   "metadata": {},
   "outputs": [
    {
     "name": "stdout",
     "output_type": "stream",
     "text": [
      "FICO Xpress v9.4.2, Hyper, solve started 12:05:36, Feb 19, 2025\n",
      "Heap usage: 391KB (peak 391KB, 85KB system)\n",
      "Maximizing MILP noname using up to 16 threads and up to 15GB memory, with these control settings:\n",
      "OUTPUTLOG = 1\n",
      "NLPPOSTSOLVE = 1\n",
      "XSLP_DELETIONCONTROL = 0\n",
      "XSLP_OBJSENSE = -1\n",
      "Original problem has:\n",
      "        11 rows            6 cols           18 elements         6 entities\n",
      "Presolved problem has:\n",
      "         0 rows            0 cols            0 elements         0 entities\n",
      "Presolve finished in 0 seconds\n",
      "Heap usage: 395KB (peak 406KB, 85KB system)\n",
      "Will try to keep branch and bound tree memory usage below 8.9GB\n",
      "Starting concurrent solve with dual (1 thread)\n",
      "\n",
      " Concurrent-Solve,   0s\n",
      "            Dual        \n",
      "    objective   dual inf\n",
      " D  40.000000   .0000000\n",
      "                        \n",
      "------- optimal --------\n",
      "Concurrent statistics:\n",
      "           Dual: 0 simplex iterations, 0.00s\n",
      "Optimal solution found\n",
      " \n",
      "   Its         Obj Value      S   Ninf  Nneg   Sum Dual Inf  Time\n",
      "     0         40.000000      D      0     0        .000000     0\n",
      "Dual solved problem\n",
      "  0 simplex iterations in 0.00 seconds at time 0\n",
      "\n",
      "Final objective                       : 4.000000000000000e+01\n",
      "  Max primal violation      (abs/rel) :       0.0 /       0.0\n",
      "  Max dual violation        (abs/rel) :       0.0 /       0.0\n",
      "  Max complementarity viol. (abs/rel) :       0.0 /       0.0\n",
      "\n",
      "Starting root cutting & heuristics\n",
      "Deterministic mode with up to 3 additional threads\n",
      " \n",
      " Its Type    BestSoln    BestBound   Sols    Add    Del     Gap     GInf   Time\n",
      "*           40.000000    40.000000      1                 -0.00%       0      0\n",
      " *** Search completed ***\n",
      "Uncrunching matrix\n",
      "Final MIP objective                   : 4.000000000000000e+01\n",
      "Final MIP bound                       : 4.000000000000000e+01\n",
      "  Solution time / primaldual integral :      0.00s/ 83.123086%\n",
      "  Number of solutions found / nodes   :         1 /         1\n",
      "  Max primal violation      (abs/rel) :       0.0 /       0.0\n",
      "  Max integer violation     (abs    ) :       0.0\n",
      "\n",
      "\n",
      "\n",
      "Optimal Matches:\n",
      "P1 donates to P2 with benefit 10\n",
      "P2 donates to P3 with benefit 9\n",
      "P3 donates to P4 with benefit 8\n",
      "P4 donates to P5 with benefit 7\n",
      "P5 donates to P1 with benefit 6\n",
      "Total Benefit: 40.0\n",
      "\n",
      "\n",
      "\n"
     ]
    },
    {
     "name": "stderr",
     "output_type": "stream",
     "text": [
      "C:\\Users\\ajmac\\AppData\\Local\\Temp\\ipykernel_2584\\371965564.py:3: LicenseWarning: Using the license file found in your Xpress installation. If you want to use this license and no longer want to see this message, use the following code before using the xpress module:\n",
      "  xpress.init('C:/Program Files/xpressmp/bin/xpauth.xpr')\n",
      "\n",
      "  prob = xp.problem()\n"
     ]
    }
   ],
   "source": [
    "# Create Xpress Model\n",
    "# Initialize the model\n",
    "prob = xp.problem()\n",
    "\n",
    "# Define decision variables for each edge\n",
    "y = {e: xp.var(vartype=xp.binary, name=f\"y_{e[0]}_{e[1]}\") for e in edges}\n",
    "prob.addVariable(list(y.values()))\n",
    "\n",
    "# Objective: Maximize total benefit\n",
    "prob.setObjective(xp.Sum(y[e] * w for e, w in edges.items()), sense=xp.maximize)\n",
    "\n",
    "# Constraints\n",
    "for v in pairs:\n",
    "    prob.addConstraint(xp.Sum(y[e] for e in edges if e[0] == v) <= xp.Sum(y[e] for e in edges if e[1] == v))\n",
    "    prob.addConstraint(xp.Sum(y[e] for e in edges if e[1] == v) <= 1)\n",
    "\n",
    "for a in altruistic_donors:\n",
    "    prob.addConstraint(xp.Sum(y[e] for e in edges if e[0] == a) <= 1)\n",
    "\n",
    "\n",
    "# Add a test callback - COULDN'T WORK OUT HOW TO MAKE WORK QUICKLY ENOUGH\n",
    "# prob.addcbpreintsol(myCallback,None,1)\n",
    "\n",
    "finished = False # A flag to mark the end of the optimization.\n",
    "infeasible = False # A (currently unused) flag to mark no feasible solution.\n",
    "# TODO: Add a catch for no feasible solution. This shouldn't happen but it is\n",
    "# probably better to be robust about this.\n",
    "\n",
    "while finished == False and infeasible == False:\n",
    "    break\n",
    "\n",
    "\n",
    "\n",
    "# Solve the model\n",
    "prob.optimize()\n",
    "\n",
    "opt_sol = prob.getSolution()\n",
    "\n",
    "\n",
    "\n",
    "\n",
    "\n",
    "\n",
    "\n",
    "\n",
    "\n",
    "# Print the output\n",
    "print(\"\")\n",
    "print(\"\")\n",
    "print(\"\")\n",
    "\n",
    "print(\"Optimal Matches:\")\n",
    "for (u, v), var in y.items():\n",
    "    if prob.getSolution(var) > 0.5:\n",
    "        print(f\"{u} donates to {v} with benefit {edges[(u,v)]}\")\n",
    "\n",
    "print(f\"Total Benefit: {prob.getObjVal()}\")\n",
    "print(\"\")\n",
    "print(\"\")\n",
    "print(\"\")\n"
   ]
  },
  {
   "cell_type": "code",
   "execution_count": 7,
   "metadata": {},
   "outputs": [],
   "source": [
    "# Construct the graph from the optimal solution:\n",
    "DG = nx.DiGraph()\n",
    "\n",
    "selected_edges = [list(edges.keys())[i] for i, e in enumerate(list(edges.keys())) if opt_sol[i]==1]\n",
    "\n",
    "DG.add_edges_from(selected_edges)"
   ]
  },
  {
   "cell_type": "code",
   "execution_count": 8,
   "metadata": {},
   "outputs": [
    {
     "data": {
      "text/plain": [
       "[['P2', 'P3', 'P4', 'P5', 'P1']]"
      ]
     },
     "execution_count": 8,
     "metadata": {},
     "output_type": "execute_result"
    }
   ],
   "source": [
    "# Check if there is a cycle length that is too long:\n",
    "cycles = list(nx.simple_cycles(DG))\n",
    "cycles"
   ]
  },
  {
   "cell_type": "code",
   "execution_count": 9,
   "metadata": {},
   "outputs": [
    {
     "name": "stdout",
     "output_type": "stream",
     "text": [
      "REOPTIMIZATION REQUIRED: proposed solution contains long cycles.\n"
     ]
    }
   ],
   "source": [
    "# If ok, report done.\n",
    "if max(map(len,cycles))<=k:\n",
    "    print(f\"OPTIMIZATION COMPLETE: no cycles of length more than {k}.\")\n",
    "else:\n",
    "    print(f\"REOPTIMIZATION REQUIRED: proposed solution contains long cycles.\")"
   ]
  },
  {
   "cell_type": "code",
   "execution_count": 10,
   "metadata": {},
   "outputs": [],
   "source": [
    "max_cycle = max(cycles,key=len)"
   ]
  },
  {
   "cell_type": "code",
   "execution_count": 11,
   "metadata": {},
   "outputs": [],
   "source": [
    "# Otherwise add constraints to remove this solution:\n",
    "cycle_edges = [(max_cycle[i],max_cycle[i+1]) for i in range(len(max_cycle)-1)]\n",
    "cycle_edges += [(max_cycle[-1],max_cycle[0])]"
   ]
  },
  {
   "cell_type": "code",
   "execution_count": 12,
   "metadata": {},
   "outputs": [
    {
     "data": {
      "text/plain": [
       "[('P2', 'P3'), ('P3', 'P4'), ('P4', 'P5'), ('P5', 'P1'), ('P1', 'P2')]"
      ]
     },
     "execution_count": 12,
     "metadata": {},
     "output_type": "execute_result"
    }
   ],
   "source": [
    "cycle_edges"
   ]
  },
  {
   "cell_type": "code",
   "execution_count": 13,
   "metadata": {},
   "outputs": [],
   "source": [
    "prob.addConstraint(xp.Sum(y[e] for e in cycle_edges) <= len(max_cycle)-1)"
   ]
  },
  {
   "cell_type": "code",
   "execution_count": 14,
   "metadata": {},
   "outputs": [
    {
     "name": "stdout",
     "output_type": "stream",
     "text": [
      "FICO Xpress v9.4.2, Hyper, solve started 12:08:29, Feb 19, 2025\n",
      "Heap usage: 2643KB (peak 3485KB, 91KB system)\n",
      "Maximizing MILP noname using up to 16 threads and up to 15GB memory, with these control settings:\n",
      "OUTPUTLOG = 1\n",
      "NLPPOSTSOLVE = 1\n",
      "XSLP_DELETIONCONTROL = 0\n",
      "XSLP_OBJSENSE = -1\n",
      "Original problem has:\n",
      "        12 rows            6 cols           23 elements         6 entities\n",
      "Presolved problem has:\n",
      "         0 rows            0 cols            0 elements         0 entities\n",
      "LP relaxation tightened\n",
      "Presolve finished in 0 seconds\n",
      "Heap usage: 2647KB (peak 3485KB, 91KB system)\n",
      "Will try to keep branch and bound tree memory usage below 8.9GB\n",
      "Starting concurrent solve with dual (1 thread)\n",
      "\n",
      " Concurrent-Solve,   0s\n",
      "            Dual        \n",
      "    objective   dual inf\n",
      " D  34.100000   .0000000\n",
      "                        \n",
      "------- optimal --------\n",
      "Concurrent statistics:\n",
      "           Dual: 0 simplex iterations, 0.00s\n",
      "Optimal solution found\n",
      " \n",
      "   Its         Obj Value      S   Ninf  Nneg   Sum Dual Inf  Time\n",
      "     0         34.100000      D      0     0        .000000     0\n",
      "Dual solved problem\n",
      "  0 simplex iterations in 0.00 seconds at time 0\n",
      "\n",
      "Final objective                       : 3.410000000000000e+01\n",
      "  Max primal violation      (abs/rel) :       0.0 /       0.0\n",
      "  Max dual violation        (abs/rel) :       0.0 /       0.0\n",
      "  Max complementarity viol. (abs/rel) :       0.0 /       0.0\n",
      "\n",
      "Starting root cutting & heuristics\n",
      "Deterministic mode with up to 3 additional threads\n",
      " \n",
      " Its Type    BestSoln    BestBound   Sols    Add    Del     Gap     GInf   Time\n",
      "*           34.100000    34.100000      1                 -0.00%       0      0\n",
      " *** Search completed ***\n",
      "Uncrunching matrix\n",
      "Final MIP objective                   : 3.410000000000000e+01\n",
      "Final MIP bound                       : 3.410000000000000e+01\n",
      "  Solution time / primaldual integral :      0.01s/ 80.494630%\n",
      "  Number of solutions found / nodes   :         1 /         1\n",
      "  Max primal violation      (abs/rel) :       0.0 /       0.0\n",
      "  Max integer violation     (abs    ) :       0.0\n"
     ]
    },
    {
     "data": {
      "text/plain": [
       "(<SolveStatus.COMPLETED: 3>, <SolStatus.OPTIMAL: 1>)"
      ]
     },
     "execution_count": 14,
     "metadata": {},
     "output_type": "execute_result"
    }
   ],
   "source": [
    "prob.solve()"
   ]
  },
  {
   "cell_type": "code",
   "execution_count": 15,
   "metadata": {},
   "outputs": [
    {
     "data": {
      "text/plain": [
       "34.1"
      ]
     },
     "execution_count": 15,
     "metadata": {},
     "output_type": "execute_result"
    }
   ],
   "source": [
    "prob.getObjVal()"
   ]
  },
  {
   "cell_type": "code",
   "execution_count": 16,
   "metadata": {},
   "outputs": [],
   "source": [
    "opt_sol = prob.getSolution()"
   ]
  },
  {
   "cell_type": "code",
   "execution_count": 17,
   "metadata": {},
   "outputs": [
    {
     "data": {
      "text/plain": [
       "[1.0, 1.0, 1.0, 1.0, 1.0, -0.0]"
      ]
     },
     "execution_count": 17,
     "metadata": {},
     "output_type": "execute_result"
    }
   ],
   "source": [
    "opt_sol"
   ]
  },
  {
   "cell_type": "code",
   "execution_count": null,
   "metadata": {},
   "outputs": [
    {
     "data": {
      "text/plain": [
       "['P1', 'P2', 'P3', 'P4', 'P5']"
      ]
     },
     "execution_count": 45,
     "metadata": {},
     "output_type": "execute_result"
    }
   ],
   "source": [
    "# Get the longest cycle:\n",
    "max(cycles,key=len)"
   ]
  },
  {
   "cell_type": "code",
   "execution_count": null,
   "metadata": {},
   "outputs": [
    {
     "data": {
      "text/plain": [
       "5"
      ]
     },
     "execution_count": 78,
     "metadata": {},
     "output_type": "execute_result"
    }
   ],
   "source": [
    "# Get the length of the longest cycle:\n",
    "max(map(len,cycles))"
   ]
  },
  {
   "cell_type": "code",
   "execution_count": null,
   "metadata": {},
   "outputs": [
    {
     "name": "stdout",
     "output_type": "stream",
     "text": [
      "FICO Xpress v9.4.2, Hyper, solve started 12:24:14, Feb 19, 2025\n",
      "Heap usage: 391KB (peak 391KB, 123KB system)\n",
      "Maximizing MILP noname using up to 16 threads and up to 15GB memory, with these control settings:\n",
      "OUTPUTLOG = 1\n",
      "NLPPOSTSOLVE = 1\n",
      "XSLP_DELETIONCONTROL = 0\n",
      "XSLP_OBJSENSE = -1\n",
      "Original problem has:\n",
      "        11 rows            6 cols           18 elements         6 entities\n",
      "Presolved problem has:\n",
      "         0 rows            0 cols            0 elements         0 entities\n",
      "Presolve finished in 0 seconds\n",
      "Heap usage: 395KB (peak 406KB, 123KB system)\n",
      "Will try to keep branch and bound tree memory usage below 8.9GB\n",
      "Starting concurrent solve with dual (1 thread)\n",
      "\n",
      " Concurrent-Solve,   0s\n",
      "            Dual        \n",
      "    objective   dual inf\n",
      " D  40.000000   .0000000\n",
      "                        \n",
      "------- optimal --------\n",
      "Concurrent statistics:\n",
      "           Dual: 0 simplex iterations, 0.00s\n",
      "Optimal solution found\n",
      " \n",
      "   Its         Obj Value      S   Ninf  Nneg   Sum Dual Inf  Time\n",
      "     0         40.000000      D      0     0        .000000     0\n",
      "Dual solved problem\n",
      "  0 simplex iterations in 0.00 seconds at time 0\n",
      "\n",
      "Final objective                       : 4.000000000000000e+01\n",
      "  Max primal violation      (abs/rel) :       0.0 /       0.0\n",
      "  Max dual violation        (abs/rel) :       0.0 /       0.0\n",
      "  Max complementarity viol. (abs/rel) :       0.0 /       0.0\n",
      "\n",
      "Starting root cutting & heuristics\n",
      "Deterministic mode with up to 3 additional threads\n",
      " \n",
      " Its Type    BestSoln    BestBound   Sols    Add    Del     Gap     GInf   Time\n",
      "*           40.000000    40.000000      1                 -0.00%       0      0\n",
      " *** Search completed ***\n",
      "Uncrunching matrix\n",
      "Final MIP objective                   : 4.000000000000000e+01\n",
      "Final MIP bound                       : 4.000000000000000e+01\n",
      "  Solution time / primaldual integral :      0.01s/ 74.169689%\n",
      "  Number of solutions found / nodes   :         1 /         1\n",
      "  Max primal violation      (abs/rel) :       0.0 /       0.0\n",
      "  Max integer violation     (abs    ) :       0.0\n",
      "\n",
      "#################################################################\n",
      "REOPTIMIZATION REQUIRED: proposed solution contains long cycles.\n",
      "#################################################################\n",
      "\n",
      "FICO Xpress v9.4.2, Hyper, solve started 12:24:14, Feb 19, 2025\n",
      "Heap usage: 2643KB (peak 3193KB, 127KB system)\n",
      "Maximizing MILP noname using up to 16 threads and up to 15GB memory, with these control settings:\n",
      "OUTPUTLOG = 1\n",
      "NLPPOSTSOLVE = 1\n",
      "XSLP_DELETIONCONTROL = 0\n",
      "XSLP_OBJSENSE = -1\n",
      "Original problem has:\n",
      "        12 rows            6 cols           23 elements         6 entities\n",
      "Presolved problem has:\n",
      "         0 rows            0 cols            0 elements         0 entities\n",
      "LP relaxation tightened\n",
      "Presolve finished in 0 seconds\n",
      "Heap usage: 2647KB (peak 3193KB, 127KB system)\n",
      "Will try to keep branch and bound tree memory usage below 8.9GB\n",
      "Starting concurrent solve with dual (1 thread)\n",
      "\n",
      " Concurrent-Solve,   0s\n",
      "            Dual        \n",
      "    objective   dual inf\n",
      " D  34.100000   .0000000\n",
      "                        \n",
      "------- optimal --------\n",
      "Concurrent statistics:\n",
      "           Dual: 0 simplex iterations, 0.00s\n",
      "Optimal solution found\n",
      " \n",
      "   Its         Obj Value      S   Ninf  Nneg   Sum Dual Inf  Time\n",
      "     0         34.100000      D      0     0        .000000     0\n",
      "Dual solved problem\n",
      "  0 simplex iterations in 0.00 seconds at time 0\n",
      "\n",
      "Final objective                       : 3.410000000000000e+01\n",
      "  Max primal violation      (abs/rel) :       0.0 /       0.0\n",
      "  Max dual violation        (abs/rel) :       0.0 /       0.0\n",
      "  Max complementarity viol. (abs/rel) :       0.0 /       0.0\n",
      "\n",
      "Starting root cutting & heuristics\n",
      "Deterministic mode with up to 3 additional threads\n",
      " \n",
      " Its Type    BestSoln    BestBound   Sols    Add    Del     Gap     GInf   Time\n",
      "*           34.100000    34.100000      1                 -0.00%       0      0\n",
      " *** Search completed ***\n",
      "Uncrunching matrix\n",
      "Final MIP objective                   : 3.410000000000000e+01\n",
      "Final MIP bound                       : 3.410000000000000e+01\n",
      "  Solution time / primaldual integral :      0.00s/ 79.473850%\n",
      "  Number of solutions found / nodes   :         1 /         1\n",
      "  Max primal violation      (abs/rel) :       0.0 /       0.0\n",
      "  Max integer violation     (abs    ) :       0.0\n",
      "\n",
      "##########################################################\n",
      "OPTIMIZATION COMPLETE: no cycles of length more than 3.\n",
      "##########################################################\n",
      "\n",
      "\n",
      "\n",
      "\n",
      "Optimal Matches:\n",
      "NDD1 donates to P1 with benefit 0.1\n",
      "P1 donates to P2 with benefit 10\n",
      "P2 donates to P3 with benefit 9\n",
      "P3 donates to P4 with benefit 8\n",
      "P4 donates to P5 with benefit 7\n",
      "Total Benefit: 34.1\n",
      "\n",
      "\n",
      "\n"
     ]
    }
   ],
   "source": [
    "# Create the loop!\n",
    "\n",
    "# Create Xpress Model\n",
    "# Initialize the model\n",
    "prob = xp.problem()\n",
    "\n",
    "# Define decision variables for each edge\n",
    "y = {e: xp.var(vartype=xp.binary, name=f\"y_{e[0]}_{e[1]}\") for e in edges}\n",
    "prob.addVariable(list(y.values()))\n",
    "\n",
    "# Objective: Maximize total benefit\n",
    "prob.setObjective(xp.Sum(y[e] * w for e, w in edges.items()), sense=xp.maximize)\n",
    "\n",
    "# Constraints\n",
    "for v in pairs:\n",
    "    prob.addConstraint(xp.Sum(y[e] for e in edges if e[0] == v) <= xp.Sum(y[e] for e in edges if e[1] == v))\n",
    "    prob.addConstraint(xp.Sum(y[e] for e in edges if e[1] == v) <= 1)\n",
    "\n",
    "for a in altruistic_donors:\n",
    "    prob.addConstraint(xp.Sum(y[e] for e in edges if e[0] == a) <= 1)\n",
    "\n",
    "\n",
    "# Add a test callback - COULDN'T WORK OUT HOW TO MAKE WORK QUICKLY ENOUGH\n",
    "# prob.addcbpreintsol(myCallback,None,1)\n",
    "\n",
    "finished = False # A flag to mark the end of the optimization.\n",
    "infeasible = False # A (currently unused) flag to mark no feasible solution.\n",
    "# TODO: Add a catch for no feasible solution. This shouldn't happen but it is\n",
    "# probably better to be robust about this.\n",
    "\n",
    "while finished == False and infeasible == False:\n",
    "  \n",
    "    # Solve the model\n",
    "    prob.solve()\n",
    "    opt_sol = prob.getSolution()\n",
    "\n",
    "    # Construct the graph from the optimal solution:\n",
    "    DG = nx.DiGraph()\n",
    "    selected_edges = [list(edges.keys())[i] for i, e in enumerate(list(edges.keys())) if opt_sol[i]==1]\n",
    "    DG.add_edges_from(selected_edges)\n",
    "\n",
    "    # Check if there is a cycle length that is too long:\n",
    "    cycles = list(nx.simple_cycles(DG))\n",
    "\n",
    "    # If ok, report done.\n",
    "    # TODO: Rewrite this so that it is with the max_cycle bit...\n",
    "    if cycles==[] or max(map(len,cycles))<=k:\n",
    "        print(\"\")\n",
    "        print(\"##########################################################\")\n",
    "        print(f\"OPTIMIZATION COMPLETE: no cycles of length more than {k}.\")\n",
    "        print(\"##########################################################\")\n",
    "        print(\"\")\n",
    "        finished = True\n",
    "        break\n",
    "    \n",
    "    # If not done, report that reoptimization is required:\n",
    "    else:\n",
    "        print(\"\")\n",
    "        print(\"#################################################################\")\n",
    "        print(f\"REOPTIMIZATION REQUIRED: proposed solution contains long cycles.\")\n",
    "        print(\"#################################################################\")\n",
    "        print(\"\")\n",
    "\n",
    "    # Take the long cycle we found and make a note of its edges:\n",
    "    max_cycle = max(cycles,key=len)\n",
    "    cycle_edges = [(max_cycle[i],max_cycle[i+1]) for i in range(len(max_cycle)-1)]\n",
    "    cycle_edges += [(max_cycle[-1],max_cycle[0])]\n",
    "\n",
    "    # Add the constraint to remove this as an option: \n",
    "    prob.addConstraint(xp.Sum(y[e] for e in cycle_edges) <= len(max_cycle)-1)\n",
    "\n",
    "\n",
    "# Print the output\n",
    "print(\"\")\n",
    "print(\"\")\n",
    "print(\"\")\n",
    "\n",
    "print(\"Optimal Matches:\")\n",
    "for (u, v), var in y.items():\n",
    "    if prob.getSolution(var) > 0.5:\n",
    "        print(f\"{u} donates to {v} with benefit {edges[(u,v)]}\")\n",
    "\n",
    "print(f\"Total Benefit: {prob.getObjVal()}\")\n",
    "print(\"\")\n",
    "print(\"\")\n",
    "print(\"\")\n"
   ]
  }
 ],
 "metadata": {
  "kernelspec": {
   "display_name": "TiAOR",
   "language": "python",
   "name": "python3"
  },
  "language_info": {
   "codemirror_mode": {
    "name": "ipython",
    "version": 3
   },
   "file_extension": ".py",
   "mimetype": "text/x-python",
   "name": "python",
   "nbconvert_exporter": "python",
   "pygments_lexer": "ipython3",
   "version": "3.12.3"
  }
 },
 "nbformat": 4,
 "nbformat_minor": 2
}

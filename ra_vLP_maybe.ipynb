{
 "cells": [
  {
   "cell_type": "code",
   "execution_count": 66,
   "metadata": {},
   "outputs": [],
   "source": [
    "import xpress as xp\n",
    "import pandas as pd\n",
    "import math\n",
    "import networkx as nx\n",
    "import matplotlib.pyplot as plt\n",
    "import numpy as np\n",
    "import time"
   ]
  },
  {
   "cell_type": "code",
   "execution_count": 67,
   "metadata": {},
   "outputs": [],
   "source": [
    "# Read the Excel file, turn into dataframe\n",
    "# pool = pd.read_excel('SampleData.xlsx', engine='openpyxl')\n",
    "pool = pd.read_excel('Data/Dataset2.xlsx', engine='openpyxl')\n",
    "\n",
    "# Remove unnecessary coloumns\n",
    "df = pool.drop('dage', axis=1)"
   ]
  },
  {
   "cell_type": "code",
   "execution_count": 68,
   "metadata": {},
   "outputs": [],
   "source": [
    "edges = df.dropna(subset=['score']).set_index(['donor_id', 'recipient'])['score'].to_dict()"
   ]
  },
  {
   "cell_type": "code",
   "execution_count": 69,
   "metadata": {},
   "outputs": [],
   "source": [
    "# Parameters for the optimization:\n",
    "k = 3 # max cycle length"
   ]
  },
  {
   "cell_type": "code",
   "execution_count": 70,
   "metadata": {},
   "outputs": [],
   "source": [
    "# Input data from the dataset\n",
    "# Ensure compatibility with Example input data below\n",
    "\n",
    "# This lists all donor id's that are not altruistic donors\n",
    "pairs = list(set(df[df['altruistic'] != True]['donor_id']))\n",
    "pairs = [float(i) for i in pairs]\n",
    "\n",
    " \n",
    "altruistic_donors = list(set(df[df['altruistic'] == True]['donor_id']))\n",
    "altruistic_donors = [float(i) for i in altruistic_donors]\n",
    "\n",
    "nodes = pairs + altruistic_donors\n",
    "\n",
    "edges = edges"
   ]
  },
  {
   "cell_type": "code",
   "execution_count": 71,
   "metadata": {},
   "outputs": [],
   "source": [
    "# Example input data 1\n",
    "\n",
    "# pairs = [\"P1\", \"P2\", \"P3\", \"P4\"] \n",
    "# altruistic_donors = [\"NDD1\"]\n",
    "# nodes = pairs + altruistic_donors\n",
    "# edges = {(\"NDD1\", \"P1\"): 2,\n",
    "#          (\"P1\", \"P2\"): 10, \n",
    "#          (\"P2\", \"P3\"): 10,\n",
    "#          (\"P3\", \"P4\"): 10,\n",
    "#          (\"P4\", \"P1\"): 10\n",
    "# }\n",
    "\n",
    "# # Example input data 2\n",
    "\n",
    "# pairs = [\"P1\", \"P2\", \"P3\", \"P4\", \"P5\"] \n",
    "# altruistic_donors = [\"NDD1\"]\n",
    "# nodes = pairs + altruistic_donors\n",
    "# edges = {(\"NDD1\", \"P1\"): 0.1,\n",
    "#          (\"P1\", \"P2\"): 10, \n",
    "#          (\"P2\", \"P3\"): 9,\n",
    "#          (\"P3\", \"P4\"): 8,\n",
    "#          (\"P4\", \"P5\"): 7,\n",
    "#          (\"P5\", \"P1\"): 6\n",
    "# }\n",
    "\n",
    "# # Example input data 3\n",
    "\n",
    "# pairs = [\"P1\", \"P2\", \"P3\", \"P4\", \"P5\"] \n",
    "# altruistic_donors = [\"NDD1\"]\n",
    "# nodes = pairs + altruistic_donors\n",
    "# edges = {(\"NDD1\", \"P1\"): 0.1,\n",
    "#          (\"P1\", \"P2\"): 10, \n",
    "#          (\"P2\", \"P3\"): 9,\n",
    "#          (\"P3\", \"P4\"): 8,\n",
    "#          (\"P4\", \"P5\"): 7\n",
    "# }\n",
    "\n",
    "# # Example input data 4\n",
    "\n",
    "pairs = [\"P1\", \"P2\", \"P3\", \"P4\"] \n",
    "altruistic_donors = [\"NDD1\"]\n",
    "nodes = pairs + altruistic_donors\n",
    "edges = {(\"NDD1\", \"P1\"): 0.1,\n",
    "         (\"NDD1\", \"P2\"): 0.1,\n",
    "         (\"P1\", \"P3\"): 10, \n",
    "         (\"P2\", \"P4\"): 9,\n",
    "}"
   ]
  },
  {
   "cell_type": "code",
   "execution_count": 72,
   "metadata": {},
   "outputs": [
    {
     "name": "stdout",
     "output_type": "stream",
     "text": [
      "4\n",
      "1\n",
      "4\n"
     ]
    }
   ],
   "source": [
    "print(len(edges))\n",
    "print(len(altruistic_donors))\n",
    "print(len(pairs))\n"
   ]
  },
  {
   "cell_type": "code",
   "execution_count": 73,
   "metadata": {},
   "outputs": [
    {
     "name": "stdout",
     "output_type": "stream",
     "text": [
      "FICO Xpress v9.4.2, Hyper, solve started 19:06:19, Mar 7, 2025\n",
      "Heap usage: 388KB (peak 388KB, 106KB system)\n",
      "Maximizing LP noname using up to 16 threads and up to 15GB memory, with these control settings:\n",
      "OUTPUTLOG = 1\n",
      "NLPPOSTSOLVE = 1\n",
      "XSLP_DELETIONCONTROL = 0\n",
      "XSLP_OBJSENSE = -1\n",
      "Original problem has:\n",
      "         9 rows            4 cols           12 elements\n",
      "Presolved problem has:\n",
      "         0 rows            0 cols            0 elements\n",
      "Presolve finished in 0 seconds\n",
      "Heap usage: 388KB (peak 402KB, 106KB system)\n",
      " \n",
      "   Its         Obj Value      S   Ninf  Nneg   Sum Dual Inf  Time\n",
      "     0         10.100000      D      0     0        .000000     0\n",
      "Uncrunching matrix\n",
      "Optimal solution found\n",
      "Dual solved problem\n",
      "  0 simplex iterations in 0.00 seconds at time 0\n",
      "\n",
      "Final objective                       : 1.010000000000000e+01\n",
      "  Max primal violation      (abs/rel) :       0.0 /       0.0\n",
      "  Max dual violation        (abs/rel) :       0.0 /       0.0\n",
      "  Max complementarity viol. (abs/rel) :       0.0 /       0.0\n",
      "\n",
      "##########################################################\n",
      "OPTIMIZATION COMPLETE: no cycles of length more than 3.\n",
      "##########################################################\n",
      "\n",
      "The optimization took 0.025494098663330078 seconds to execute.\n",
      "\n",
      "\n",
      "\n",
      "Total Benefit: 10.1\n",
      "\n",
      "\n",
      "\n"
     ]
    }
   ],
   "source": [
    "# Create the loop!\n",
    "\n",
    "# Create Xpress Model\n",
    "# Initialize the model\n",
    "prob = xp.problem()\n",
    "\n",
    "# Define decision variables for each edge\n",
    "y = {e: xp.var(vartype=xp.continuous, name=f\"y_{e[0]}_{e[1]}\") for e in edges}\n",
    "prob.addVariable(list(y.values()))\n",
    "\n",
    "# Objective: Maximize total benefit\n",
    "prob.setObjective(xp.Sum(y[e] * w for e, w in edges.items()), sense=xp.maximize)\n",
    "\n",
    "# Constraints\n",
    "for v in pairs:\n",
    "    prob.addConstraint(xp.Sum(y[e] for e in edges if e[0] == v) <= xp.Sum(y[e] for e in edges if e[1] == v))\n",
    "    prob.addConstraint(xp.Sum(y[e] for e in edges if e[1] == v) <= 1)\n",
    "\n",
    "for a in altruistic_donors:\n",
    "    prob.addConstraint(xp.Sum(y[e] for e in edges if e[0] == a) <= 1)\n",
    "\n",
    "finished = False # A flag to mark the end of the optimization.\n",
    "infeasible = False # A (currently unused) flag to mark no feasible solution.\n",
    "# TODO: Add a catch for no feasible solution. This shouldn't happen but it is\n",
    "# probably better to be robust about this.\n",
    "\n",
    "Gstart_time = time.time()\n",
    "\n",
    "\n",
    "# prob.solve()\n",
    "\n",
    "while finished == False and infeasible == False:\n",
    "    \n",
    "\n",
    "    start_time = time.time()\n",
    "\n",
    "\n",
    "    # Solve the model\n",
    "    # prob.controls.outputlog = 0 # This just makes it quiet to run\n",
    "    prob.solve()\n",
    "    opt_sol = prob.getSolution()\n",
    "    \n",
    "    # print(f\"Solver took {time.time()-start_time} seconds to run\")\n",
    "    start_time = time.time()\n",
    "\n",
    "    # Construct the graph from the optimal solution:\n",
    "    DG = nx.DiGraph()\n",
    "    selected_edges = [list(edges.keys())[i] for i, e in enumerate(list(edges.keys())) if opt_sol[i]>0.5]\n",
    "    DG.add_edges_from(selected_edges)\n",
    "\n",
    "    # Check if there is a cycle length that is too long:\n",
    "    cycles = list(nx.simple_cycles(DG))\n",
    "    \n",
    "    # print(f\"Finding the cycles took {time.time()-start_time} seconds\")\n",
    "    start_time = time.time()\n",
    "\n",
    "    # If ok, report done.\n",
    "    # TODO: Rewrite this so that it is with the max_cycle bit...\n",
    "    if cycles==[] or max(map(len,cycles))<=k:\n",
    "        print(\"\")\n",
    "        print(\"##########################################################\")\n",
    "        print(f\"OPTIMIZATION COMPLETE: no cycles of length more than {k}.\")\n",
    "        print(\"##########################################################\")\n",
    "        print(\"\")\n",
    "        finished = True\n",
    "        break\n",
    "    \n",
    "    # If not done, report that reoptimization is required:\n",
    "    else:\n",
    "        break\n",
    "        print(\"\")\n",
    "        print(\"#################################################################\")\n",
    "        print(f\"REOPTIMIZATION REQUIRED: proposed solution contains long cycles.\")\n",
    "        print(\"#################################################################\")\n",
    "        print(\"\")\n",
    "\n",
    "    # Take the long cycle we found and make a note of its edges:\n",
    "    max_cycle = max(cycles,key=len)\n",
    "    cycle_edges = [(max_cycle[i],max_cycle[i+1]) for i in range(len(max_cycle)-1)]\n",
    "    cycle_edges += [(max_cycle[-1],max_cycle[0])]\n",
    "\n",
    "    # Add the constraint to remove this as an option: \n",
    "    prob.addConstraint(xp.Sum(y[e] for e in cycle_edges) <= len(max_cycle)-1)\n",
    "\n",
    "\n",
    "\n",
    "print(f\"The optimization took {time.time() - Gstart_time} seconds to execute.\")\n",
    "\n",
    "\n",
    "\n",
    "\n",
    "# Print the output\n",
    "print(\"\")\n",
    "print(\"\")\n",
    "print(\"\")\n",
    "\n",
    "# print(\"Optimal Matches:\")\n",
    "# for (u, v), var in y.items():\n",
    "#     if prob.getSolution(var) > 0.5:\n",
    "#         print(f\"{u} donates to {v} with benefit {edges[(u,v)]}\")\n",
    "\n",
    "solution_edges = [e for e in edges if prob.getSolution(y[e]) > 0.001]\n",
    "\n",
    "print(f\"Total Benefit: {prob.getObjVal()}\")\n",
    "print(\"\")\n",
    "print(\"\")\n",
    "print(\"\")"
   ]
  },
  {
   "cell_type": "code",
   "execution_count": 74,
   "metadata": {},
   "outputs": [],
   "source": [
    "altruistic_donors\n",
    "for edge in solution_edges:\n",
    "    if edge[1]==135.0:\n",
    "        print(edge)"
   ]
  },
  {
   "cell_type": "code",
   "execution_count": 75,
   "metadata": {},
   "outputs": [
    {
     "data": {
      "text/plain": [
       "[('NDD1', 'P1'), ('P1', 'P3')]"
      ]
     },
     "execution_count": 75,
     "metadata": {},
     "output_type": "execute_result"
    }
   ],
   "source": [
    "solution_edges"
   ]
  },
  {
   "cell_type": "code",
   "execution_count": 76,
   "metadata": {},
   "outputs": [
    {
     "data": {
      "text/plain": [
       "[1.0, 0.0, 1.0, 0.0]"
      ]
     },
     "execution_count": 76,
     "metadata": {},
     "output_type": "execute_result"
    }
   ],
   "source": [
    "prob.getSolution()"
   ]
  },
  {
   "cell_type": "code",
   "execution_count": 77,
   "metadata": {},
   "outputs": [
    {
     "data": {
      "image/png": "[encoded data removed]",
      "text/plain": [
       "<Figure size 1200x1000 with 1 Axes>"
      ]
     },
     "metadata": {},
     "output_type": "display_data"
    }
   ],
   "source": [
    "def solution_network(edges):\n",
    "    G = nx.DiGraph() \n",
    "\n",
    "    # Add edges\n",
    "    for e in edges:\n",
    "        G.add_edge(e[0], e[1])\n",
    "\n",
    "    # Draw the graph\n",
    "    plt.figure(figsize=(12, 10))\n",
    "    pos = nx.spring_layout(G, k=0.208, seed=42) \n",
    "    nx.draw(G, pos, with_labels=True, node_color='lightblue', edge_color='black', \n",
    "            node_size=300, font_size=8, font_weight='bold', arrows=True)\n",
    "\n",
    "    \n",
    "    plt.title(\"Solution Network\")\n",
    "    plt.show()\n",
    "\n",
    "    return G\n",
    "\n",
    "G = solution_network(solution_edges)"
   ]
  },
  {
   "cell_type": "code",
   "execution_count": 78,
   "metadata": {},
   "outputs": [
    {
     "name": "stdout",
     "output_type": "stream",
     "text": [
      "[]\n"
     ]
    },
    {
     "data": {
      "text/plain": [
       "[3]"
      ]
     },
     "execution_count": 78,
     "metadata": {},
     "output_type": "execute_result"
    }
   ],
   "source": [
    "cycles = list(nx.simple_cycles(G))\n",
    "print(cycles)\n",
    "\n",
    "undirectedG = G.to_undirected()\n",
    "b = nx.connected_components(undirectedG)\n",
    "\n",
    "\n",
    "[len(c) for c in sorted(b, key=len, reverse=True)]"
   ]
  }
 ],
 "metadata": {
  "kernelspec": {
   "display_name": "TiAOR",
   "language": "python",
   "name": "python3"
  },
  "language_info": {
   "codemirror_mode": {
    "name": "ipython",
    "version": 3
   },
   "file_extension": ".py",
   "mimetype": "text/x-python",
   "name": "python",
   "nbconvert_exporter": "python",
   "pygments_lexer": "ipython3",
   "version": "3.12.3"
  }
 },
 "nbformat": 4,
 "nbformat_minor": 4
}

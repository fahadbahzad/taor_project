{
 "cells": [
  {
   "cell_type": "code",
   "execution_count": 6,
   "metadata": {},
   "outputs": [],
   "source": [
    "from pctstp import *\n",
    "from Data import *\n",
    "from ra import *"
   ]
  },
  {
   "cell_type": "markdown",
   "metadata": {},
   "source": [
    "# Results for a difficult dataset\n",
    "\n",
    "Anderson et al. investigate when the PC-TSP algorithm is faster than the RA. They looked at datasets that cause more than $500$ constraints in the RA to be violated. This notebook displays that on a dataset constructed to violate these constraints the PC-TSP algorithm is indeed faster than the RA. This dataset contians $200$ nodes and $516$ cycles that will violates constraints."
   ]
  },
  {
   "cell_type": "code",
   "execution_count": 15,
   "metadata": {},
   "outputs": [],
   "source": [
    "# Retreive data required to perform the pc-tsp algorithm\n",
    "G, pairs, altruistic_donors, nodes, edges, all_cycles = get_data(file=\"data/CycleDataset.xlsx\", max_cycle=3, pc_tsp=True)"
   ]
  },
  {
   "cell_type": "code",
   "execution_count": 25,
   "metadata": {},
   "outputs": [
    {
     "name": "stdout",
     "output_type": "stream",
     "text": [
      "FICO Xpress v9.4.2, Hyper, solve started 12:32:21, Mar 24, 2025\n",
      "Heap usage: 684KB (peak 748KB, 241KB system)\n",
      "Maximizing MILP noname using up to 16 threads and up to 15GB memory, with these control settings:\n",
      "PRESOLVE = 0\n",
      "MAXTIME = 600\n",
      "OUTPUTLOG = 1\n",
      "MIPRELSTOP = .01\n",
      "NLPPOSTSOLVE = 1\n",
      "XSLP_DELETIONCONTROL = 0\n",
      "XSLP_OBJSENSE = -1\n",
      "Original problem has:\n",
      "       799 rows          618 cols         1440 elements       618 entities\n",
      "\n",
      "Coefficient range                    original                 solved        \n",
      "  Coefficients   [min,max] : [ 1.00e+00,  1.00e+00] / [ 1.00e+00,  1.00e+00]\n",
      "  RHS and bounds [min,max] : [ 1.00e+00,  1.00e+00] / [ 1.00e+00,  1.00e+00]\n",
      "  Objective      [min,max] : [ 1.00e+00,  1.00e+02] / [ 1.00e+00,  1.00e+02]\n",
      "Autoscaling applied standard scaling\n",
      "\n",
      "Symmetric problem: generators: 9, support set: 188\n",
      " Number of orbits: 7, largest orbit: 36\n",
      " Row orbits: 7, row support: 204\n",
      "Will try to keep branch and bound tree memory usage below 8.4GB\n",
      " *** Solution found:      .000000   Time:   0.01    Heuristic: T ***\n",
      " *** Solution found:    24.000000   Time:   0.01    Heuristic: e ***\n",
      "Starting concurrent solve with dual (1 thread)\n",
      "\n",
      " Concurrent-Solve,   0s\n",
      "            Dual        \n",
      "    objective   dual inf\n",
      " D  12334.000   .0000000\n",
      "                        \n",
      "------- optimal --------\n",
      "Concurrent statistics:\n",
      "           Dual: 77 simplex iterations, 0.00s\n",
      "Optimal solution found\n",
      " \n",
      "   Its         Obj Value      S   Ninf  Nneg   Sum Dual Inf  Time\n",
      "    77       12334.00000      D      0     0        .000000     0\n",
      "Dual solved problem\n",
      "  77 simplex iterations in 0.00 seconds at time 0\n",
      "\n",
      "Final objective                       : 1.233400000000000e+04\n",
      "  Max primal violation      (abs/rel) :       0.0 /       0.0\n",
      "  Max dual violation        (abs/rel) :       0.0 /       0.0\n",
      "  Max complementarity viol. (abs/rel) :       0.0 /       0.0\n",
      "\n",
      "Starting root cutting & heuristics\n",
      "Deterministic mode with up to 2 additional threads\n",
      " \n",
      " Its Type    BestSoln    BestBound   Sols    Add    Del     Gap     GInf   Time\n",
      "Heuristic search 'R' started\n",
      "Heuristic search 'R' stopped\n",
      "*           34.000000    34.000000      3                 -0.00%       0      0\n",
      " *** Search completed ***\n",
      "Final MIP objective                   : 3.400000000000000e+01\n",
      "Final MIP bound                       : 3.400000000000000e+01\n",
      "  Solution time / primaldual integral :      0.24s/ 99.317748%\n",
      "  Number of solutions found / nodes   :         3 /         1\n",
      "  Max primal violation      (abs/rel) :       0.0 /       0.0\n",
      "  Max integer violation     (abs    ) :       0.0\n"
     ]
    }
   ],
   "source": [
    "# Calculate the optimal solution to the given patient-donor pool using the pc-tsp algorithm\n",
    "opt_val, selected_edges, selected_cycles, time_taken = pctsp(G, pairs, altruistic_donors, nodes, edges, all_cycles, noisy=1)"
   ]
  },
  {
   "cell_type": "code",
   "execution_count": 26,
   "metadata": {},
   "outputs": [
    {
     "name": "stdout",
     "output_type": "stream",
     "text": [
      "The optimization took  0.2413039207458496  seconds to execute.\n",
      "Total Benefit:  34.0\n"
     ]
    }
   ],
   "source": [
    "# How long the pc-tsp algorithm took\n",
    "print('The optimization took ', time_taken, ' seconds to execute.')\n",
    "print('Total Benefit: ', opt_val)"
   ]
  },
  {
   "cell_type": "code",
   "execution_count": 22,
   "metadata": {},
   "outputs": [],
   "source": [
    "# Retreive data required to perform the recursive algorithm (512 infeasible high-value cycles)\n",
    "pairs, altruistic_donors, nodes, edges = get_data(file=\"data/CycleDataset.xlsx\", max_cycle=3, pc_tsp=False)"
   ]
  },
  {
   "cell_type": "code",
   "execution_count": 23,
   "metadata": {},
   "outputs": [
    {
     "name": "stdout",
     "output_type": "stream",
     "text": [
      "\n",
      "##########################################################\n",
      "OPTIMIZATION COMPLETE: no cycles of length more than 3.\n",
      "##########################################################\n",
      "\n",
      "The optimization took 6.0200910568237305 seconds to execute.\n",
      "\n",
      "\n",
      "\n",
      "Total Benefit: 34.0\n",
      "\n",
      "\n",
      "\n"
     ]
    }
   ],
   "source": [
    "# Calculate the optimal solution to the given patient-donor pool using the pc-tsp algorithm\n",
    "opt_val, solution_edges, time_taken, VSS, opt_sol = ra(pairs, altruistic_donors, edges, k=3, noisy=1,scenarios=None, gap=0.01, maxtime=1200, add_multiple_constraints=False)"
   ]
  }
 ],
 "metadata": {
  "kernelspec": {
   "display_name": "Python 3 (ipykernel)",
   "language": "python",
   "name": "python3"
  },
  "language_info": {
   "codemirror_mode": {
    "name": "ipython",
    "version": 3
   },
   "file_extension": ".py",
   "mimetype": "text/x-python",
   "name": "python",
   "nbconvert_exporter": "python",
   "pygments_lexer": "ipython3",
   "version": "3.12.4"
  }
 },
 "nbformat": 4,
 "nbformat_minor": 4
}

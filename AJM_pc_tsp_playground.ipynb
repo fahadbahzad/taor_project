{
 "cells": [
  {
   "cell_type": "code",
   "execution_count": 1,
   "metadata": {},
   "outputs": [],
   "source": [
    "import xpress as xp"
   ]
  },
  {
   "cell_type": "code",
   "execution_count": 5,
   "metadata": {},
   "outputs": [],
   "source": [
    "def dummyCallback():\n",
    "    print(\"Callback called\")"
   ]
  },
  {
   "cell_type": "code",
   "execution_count": null,
   "metadata": {},
   "outputs": [
    {
     "name": "stdout",
     "output_type": "stream",
     "text": [
      "FICO Xpress v9.4.2, Hyper, solve started 15:56:08, Feb 12, 2025\n",
      "Heap usage: 394KB (peak 394KB, 165KB system)\n",
      "Maximizing MILP noname using up to 16 threads and up to 15GB memory, with these control settings:\n",
      "OUTPUTLOG = 1\n",
      "NLPPOSTSOLVE = 1\n",
      "XSLP_DELETIONCONTROL = 0\n",
      "XSLP_OBJSENSE = -1\n",
      "Original problem has:\n",
      "        15 rows           14 cols           30 elements        14 entities\n",
      "Presolved problem has:\n",
      "         7 rows            9 cols           18 elements         9 entities\n",
      "Presolve finished in 0 seconds\n",
      "Heap usage: 425KB (peak 447KB, 165KB system)\n",
      "\n",
      "Coefficient range                    original                 solved        \n",
      "  Coefficients   [min,max] : [ 1.00e+00,  1.00e+00] / [ 1.00e+00,  1.00e+00]\n",
      "  RHS and bounds [min,max] : [ 1.00e+00,  1.00e+00] / [ 1.00e+00,  1.00e+00]\n",
      "  Objective      [min,max] : [ 6.00e+00,  1.00e+01] / [ 6.00e+00,  1.00e+01]\n",
      "Autoscaling applied standard scaling\n",
      "\n",
      "Will try to keep branch and bound tree memory usage below 8.9GB\n",
      "User interrupt (7) triggered.\n",
      " *** Search unfinished ***    Time:     0.00 Nodes:          0\n",
      "  Solution time / primaldual integral :      0.00s/ 100.000000%\n",
      "  Number of solutions found / nodes   :         0 /         0\n"
     ]
    },
    {
     "data": {
      "text/plain": [
       "(<SolveStatus.STOPPED: 1>, <SolStatus.NOTFOUND: 0>)"
      ]
     },
     "execution_count": 9,
     "metadata": {},
     "output_type": "execute_result"
    }
   ],
   "source": [
    "# What we need to feed this model is the following:\n",
    "# 1- List of donor-receipient pairs\n",
    "# 2- List of altruisitic donors\n",
    "# 3- List of nodes = donor-receipient pairs + altruisitic donors\n",
    "# 4- Dictionary of edges with key (\"node1\",\"node2\") and value is the weight of the edge\n",
    "# 5- Dictionary of cycles with key (edge1,edge2,edge3,...) and value is the weight of the cycle i.e., sum of edges in the cycle up to and including length k\n",
    "pairs = [\"P1\", \"P2\", \"P3\"] \n",
    "altruistic_donors = [\"NDD1\"]\n",
    "nodes = pairs + altruistic_donors\n",
    "edges = {(\"NDD1\", \"P1\"): 10, \n",
    "         (\"NDD1\", \"P2\"): 8,\n",
    "         (\"P1\", \"P3\"): 8, \n",
    "         (\"P2\", \"P3\"): 9,\n",
    "         (\"P3\", \"P1\"): 6,\n",
    "         (\"P1\", \"P2\"): 6}\n",
    "all_cycles = {}\n",
    "\n",
    "\n",
    "\n",
    "\n",
    "\n",
    "\n",
    "# Define the optimization model\n",
    "model = xp.problem()\n",
    "\n",
    "\n",
    "\n",
    "# Decision variables\n",
    "y = {e: xp.var(vartype=xp.binary, name=f\"y_{e}\") for e in edges}  # Edge selection\n",
    "z = {c: xp.var(vartype=xp.binary, name=f\"z_{c}\") for c in all_cycles}  # Cycle selection\n",
    "f_i = {v: xp.var(vartype=xp.binary) for v in nodes}  # Flow in decision variable\n",
    "f_o = {v: xp.var(vartype=xp.binary) for v in nodes}  # Flow out decision variable\n",
    "\n",
    "model.addVariable(list(y.values()) + list(z.values())+ list(f_i.values()) + list(f_o.values()))\n",
    "\n",
    "\n",
    "\n",
    "# Define the objective function which is to maximize sum of weights of selected edges and cycles\n",
    "model.setObjective(xp.Sum(edges[e] * y[e] for e in edges) + xp.Sum(all_cycles[c] * z[c] for c in all_cycles), sense=xp.maximize)\n",
    "\n",
    "\n",
    "\n",
    "\n",
    "### Constraints:\n",
    "\n",
    "# 1. Defining f_i and f_o i.e., the incoming and outgoing kidneys to a node v\n",
    "for v in nodes:\n",
    "    model.addConstraint(xp.Sum([y[e] for e in edges if e[1] == v]) == f_i[v])\n",
    "    model.addConstraint(xp.Sum([y[e] for e in edges if e[0] == v]) == f_o[v])\n",
    "\n",
    "# 2. Ensure that if a node is in an actived cycle, the associated edges that involve it are turned off\n",
    "for v in pairs:\n",
    "    model.addConstraint(f_o[v] + xp.Sum([z[c] for c in all_cycles if v in c]) <= f_i[v] + xp.Sum([z[c] for c in all_cycles if v in c]))\n",
    "    model.addConstraint(f_i[v] + xp.Sum([z[c] for c in all_cycles if v in c]) <= 1)\n",
    "\n",
    "# 3. Ensure that altruistic donors donate at most one kidney  \n",
    "for v in altruistic_donors:\n",
    "    model.addConstraint(f_o[v] <= 1)\n",
    "\n",
    "# 4. The hard and confusing constraint... This version enumerates all possible edges. I just added for completeness\n",
    "# i, k = 2, 3\n",
    "# subsets = [subset for j in range(i, k+1) for subset in itertools.combinations(pairs, j)]\n",
    "# for S in subsets:\n",
    "#     for v in S:\n",
    "#          model.addConstraint(xp.Sum([y[e] for e in edges if (e[1] in S and e[0] not in S)]) >= f_i[v])\n",
    "\n",
    "\n",
    "\n",
    "# Add the call back function to detect and add violated constraints during LP relaxation\n",
    "model.addcbpreintsol(dummyCallback, None, 3)\n",
    "\n",
    "# Solve the model\n",
    "model.solve()\n",
    "\n",
    "#\n",
    "# print(model.getProbStatusString())\n",
    "\n",
    "# # Get the current solution\n",
    "# current_sol = ({e: model.getSolution(y[e]) for e in edges}, {c: model.getSolution(z[c]) for c in all_cycles}, {v: model.getSolution(f_i[v]) for v in nodes})\n",
    "\n",
    "# # Extract and print solution\n",
    "# print(\"Objective Value:\", model.getObjVal())\n",
    "# selected_edges = [e for e in edges if model.getSolution(y[e]) > 0.5]\n",
    "# selected_cycles = [c for c in all_cycles if model.getSolution(z[c]) > 0.5]\n",
    "# print(\"Selected Edges:\", selected_edges)\n",
    "# print(\"Selected Cycles:\", selected_cycles)"
   ]
  }
 ],
 "metadata": {
  "kernelspec": {
   "display_name": "Xpress",
   "language": "python",
   "name": "python3"
  },
  "language_info": {
   "codemirror_mode": {
    "name": "ipython",
    "version": 3
   },
   "file_extension": ".py",
   "mimetype": "text/x-python",
   "name": "python",
   "nbconvert_exporter": "python",
   "pygments_lexer": "ipython3",
   "version": "3.12.3"
  }
 },
 "nbformat": 4,
 "nbformat_minor": 2
}

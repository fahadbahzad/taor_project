{
 "cells": [
  {
   "cell_type": "code",
   "execution_count": 1,
   "metadata": {},
   "outputs": [],
   "source": [
    "from tiaor import *\n",
    "from data import *"
   ]
  },
  {
   "cell_type": "code",
   "execution_count": 2,
   "metadata": {},
   "outputs": [
    {
     "name": "stdout",
     "output_type": "stream",
     "text": [
      "Reading data...\n",
      "391 13516\n",
      "Done!\n",
      "Generating scenarios...\n",
      "Done!\n",
      "Solving...\n"
     ]
    },
    {
     "name": "stderr",
     "output_type": "stream",
     "text": [
      "c:\\Users\\fbahz\\OneDrive\\3. The University of Edinburgh\\2. Semester 2\\Topics in Applied Operational Research\\Project\\taor_project\\tiaor.py:48: LicenseWarning: Using the license file found in your Xpress installation. If you want to use this license and no longer want to see this message, use the following code before using the xpress module:\n",
      "  xpress.init('C:/xpressmp/bin/xpauth.xpr')\n",
      "\n",
      "  prob = xp.problem()\n"
     ]
    },
    {
     "ename": "",
     "evalue": "",
     "output_type": "error",
     "traceback": [
      "\u001b[1;31mThe Kernel crashed while executing code in the current cell or a previous cell. \n",
      "\u001b[1;31mPlease review the code in the cell(s) to identify a possible cause of the failure. \n",
      "\u001b[1;31mClick <a href='https://aka.ms/vscodeJupyterKernelCrash'>here</a> for more info. \n",
      "\u001b[1;31mView Jupyter <a href='command:jupyter.viewOutput'>log</a> for further details."
     ]
    }
   ],
   "source": [
    "files = [f\"data/Dataset{n}.xlsx\" for n in range(1, 26)] \n",
    "\n",
    "print(\"Reading data...\")\n",
    "f = files[-1]\n",
    "pairs, altruistic_donors, nodes, edges = get_data(file=f)\n",
    "print(len(nodes), len(edges))\n",
    "print(\"Done!\")\n",
    "\n",
    "N = 2\n",
    "P_dropout_pairs = 0.09\n",
    "P_dropout_altruistic = 0.09\n",
    "\n",
    "print(\"Generating scenarios...\")\n",
    "scenarios = generate_probabilistic_scenarios(pairs, altruistic_donors, edges, N, P_dropout_pairs, P_dropout_altruistic)\n",
    "print(\"Done!\")\n",
    "\n",
    "print(\"Solving...\")\n",
    "opt_val, solution_edges, time_taken, VSS, opt_sol = ra(pairs, altruistic_donors, edges, scenarios=scenarios)\n",
    "print(\"Done!\")\n",
    "\n",
    "\n"
   ]
  }
 ],
 "metadata": {
  "kernelspec": {
   "display_name": "Xpress",
   "language": "python",
   "name": "python3"
  },
  "language_info": {
   "codemirror_mode": {
    "name": "ipython",
    "version": 3
   },
   "file_extension": ".py",
   "mimetype": "text/x-python",
   "name": "python",
   "nbconvert_exporter": "python",
   "pygments_lexer": "ipython3",
   "version": "3.12.7"
  }
 },
 "nbformat": 4,
 "nbformat_minor": 2
}

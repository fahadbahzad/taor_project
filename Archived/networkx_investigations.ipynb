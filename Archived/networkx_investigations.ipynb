{
 "cells": [
  {
   "cell_type": "code",
   "execution_count": null,
   "metadata": {},
   "outputs": [],
   "source": [
    "# Imports\n",
    "import xpress as xp\n",
    "import networkx as nx\n",
    "\n",
    "# NetworkX tutorial available here: \n",
    "# https://networkx.org/documentation/stable/tutorial.html"
   ]
  },
  {
   "cell_type": "code",
   "execution_count": 2,
   "metadata": {},
   "outputs": [],
   "source": [
    "# Example input data\n",
    "\n",
    "pairs = [\"P1\", \"P2\", \"P3\", \"P4\"] \n",
    "altruistic_donors = [\"NDD1\"]\n",
    "nodes = pairs + altruistic_donors\n",
    "edges = {(\"NDD1\", \"P1\"): 2,\n",
    "         (\"P1\", \"P2\"): 10, \n",
    "         (\"P2\", \"P3\"): 10,\n",
    "         (\"P3\", \"P4\"): 10,\n",
    "         (\"P4\", \"P1\"): 10\n",
    "}"
   ]
  },
  {
   "cell_type": "code",
   "execution_count": 52,
   "metadata": {},
   "outputs": [
    {
     "name": "stdout",
     "output_type": "stream",
     "text": [
      "Vertex in-degrees: [0, 1, 1, 1, 1, 1]\n",
      "Vertex out-degrees: [1, 1, 1, 1, 1, 0]\n",
      "Vertex degrees: [1, 2, 2, 2, 2, 1]\n"
     ]
    }
   ],
   "source": [
    "# Check for long cycles\n",
    "# Currently using this cell to understand how to detect *any* cycles.\n",
    "\n",
    "# Create a directed graph with vertices 0, 1, 2, 3, 4, 5 and edges from i to i+1\n",
    "DG = nx.DiGraph()\n",
    "DG.add_edges_from([(i,i+1) for i in range(5)])\n",
    "\n",
    "# Check the in-degree of the vertices:\n",
    "print(f'Vertex in-degrees: {[DG.in_degree[i] for i in range(6)]}')\n",
    "\n",
    "# Check the out-degree of the vertices:\n",
    "print(f'Vertex out-degrees: {[DG.out_degree[i] for i in range(6)]}')\n",
    "\n",
    "# Check the degree of the vertices:\n",
    "print(f'Vertex degrees: {[DG.degree[i] for i in range(6)]}')\n",
    "# ^ This gives the SUM of the in- and out-degree (in a directed graph)."
   ]
  },
  {
   "cell_type": "code",
   "execution_count": null,
   "metadata": {},
   "outputs": [
    {
     "name": "stdout",
     "output_type": "stream",
     "text": [
      "The successors of vertex 1 are: {2: {}}.\n",
      "The successors of vertex 1 are [2].      These require list() to be used to view like this.\n",
      "<dict_keyiterator object at 0x00000228D3460CC0>\n",
      "The successors of vertex 1: {2: {}}\n"
     ]
    }
   ],
   "source": [
    "# We can access the neighbors of vertices (out-neighbors):\n",
    "print(f'The successors of vertex 1 are: {DG.adj[1]}.')\n",
    "\n",
    "# In a _directed_ graph, these are equivalent to using successors:\n",
    "print(f'The successors of vertex 1 are {list(DG.successors(1))}.\\\n",
    "      These require list() to be used to view like this.')\n",
    "\n",
    "# The same object can be accessed with this callable function:\n",
    "print(DG.neighbors(1))\n",
    "# I'm not sure why this returns the object rather than giving the dictionary.\n",
    "\n",
    "# Or simply by looking at the relevant 'element' of DG:\n",
    "print(f'The successors of vertex 1: {DG[1]}')"
   ]
  },
  {
   "cell_type": "code",
   "execution_count": 58,
   "metadata": {},
   "outputs": [
    {
     "name": "stdout",
     "output_type": "stream",
     "text": [
      "The predecessors of vertex 1 are [0].\n"
     ]
    }
   ],
   "source": [
    "# To get the in-neighbors, we can use predecessors:\n",
    "print(f'The predecessors of vertex 1 are {list(DG.predecessors(1))}.')"
   ]
  },
  {
   "cell_type": "code",
   "execution_count": 51,
   "metadata": {},
   "outputs": [
    {
     "name": "stdout",
     "output_type": "stream",
     "text": [
      "[(0, {1: {}}), (1, {2: {}}), (2, {3: {}}), (3, {4: {}}), (4, {5: {}}), (5, {})]\n",
      "ItemsView(AdjacencyView({0: {1: {}}, 1: {2: {}}, 2: {3: {}}, 3: {4: {}}, 4: {5: {}}, 5: {}}))\n"
     ]
    }
   ],
   "source": [
    "# Fast examination of all (node, adjacency) pairs is achieved using \n",
    "# G.adjacency(), or G.adj.items().\n",
    "print(list(DG.adjacency())) # Get all of the edges\n",
    "\n",
    "print(DG.adj.items())"
   ]
  },
  {
   "cell_type": "code",
   "execution_count": 65,
   "metadata": {},
   "outputs": [
    {
     "name": "stdout",
     "output_type": "stream",
     "text": [
      "NO CYCLES\n"
     ]
    }
   ],
   "source": [
    "try:\n",
    "    nx.find_cycle(DG, orientation='original')\n",
    "except:\n",
    "    print(\"NO CYCLES\")"
   ]
  },
  {
   "cell_type": "markdown",
   "metadata": {},
   "source": [
    "https://networkx.org/documentation/stable/auto_examples/algorithms/plot_cycle_detection.html#sphx-glr-auto-examples-algorithms-plot-cycle-detection-py"
   ]
  },
  {
   "cell_type": "code",
   "execution_count": 67,
   "metadata": {},
   "outputs": [
    {
     "data": {
      "text/plain": [
       "[]"
      ]
     },
     "execution_count": 67,
     "metadata": {},
     "output_type": "execute_result"
    }
   ],
   "source": [
    "list(nx.simple_cycles(DG))"
   ]
  },
  {
   "cell_type": "code",
   "execution_count": null,
   "metadata": {},
   "outputs": [],
   "source": [
    "# Create a DiGraph with cycles\n",
    "DG2 = nx.DiGraph()\n",
    "DG2.add_edges_from([(i,i+1) for i in range(5)])\n",
    "DG2.add_edges_from([(3,1),(4,1)])"
   ]
  },
  {
   "cell_type": "code",
   "execution_count": null,
   "metadata": {},
   "outputs": [
    {
     "data": {
      "text/plain": [
       "[[1, 2, 3, 4], [1, 2, 3]]"
      ]
     },
     "execution_count": 69,
     "metadata": {},
     "output_type": "execute_result"
    }
   ],
   "source": [
    "# Find the cycles using nx.simple_cycles()\n",
    "# DO NOT USE nx.recursive_simple_cycles(), which is high RAM.\n",
    "list(nx.simple_cycles(DG2))"
   ]
  },
  {
   "cell_type": "markdown",
   "metadata": {},
   "source": [
    "### NetworkX gotchas\n",
    "\n",
    "Note that adding a node to G.nodes does not add it to the graph, use \n",
    "G.add_node() to add new nodes. Similarly for edges.\n",
    "\n",
    "If you weight edges, the degree of a node is the sum of the weights of the\n",
    "edges adjacent at that node, rather than just the number of edges adjacent."
   ]
  },
  {
   "cell_type": "code",
   "execution_count": null,
   "metadata": {},
   "outputs": [],
   "source": [
    "# Add constraint to remove long cycles"
   ]
  },
  {
   "cell_type": "code",
   "execution_count": null,
   "metadata": {},
   "outputs": [],
   "source": []
  }
 ],
 "metadata": {
  "kernelspec": {
   "display_name": "TiAOR",
   "language": "python",
   "name": "python3"
  },
  "language_info": {
   "codemirror_mode": {
    "name": "ipython",
    "version": 3
   },
   "file_extension": ".py",
   "mimetype": "text/x-python",
   "name": "python",
   "nbconvert_exporter": "python",
   "pygments_lexer": "ipython3",
   "version": "3.12.3"
  }
 },
 "nbformat": 4,
 "nbformat_minor": 2
}

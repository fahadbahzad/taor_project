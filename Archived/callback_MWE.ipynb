{
 "cells": [
  {
   "cell_type": "code",
   "execution_count": 1,
   "metadata": {},
   "outputs": [],
   "source": [
    "# Imports\n",
    "import xpress as xp"
   ]
  },
  {
   "cell_type": "code",
   "execution_count": 2,
   "metadata": {},
   "outputs": [],
   "source": [
    "def myCallback(prob, data, isheuristic, cutoff):\n",
    "    print(f\"CALLBACK TRIGGERED: {data}.\")\n",
    "    return (0, None)"
   ]
  },
  {
   "cell_type": "code",
   "execution_count": 5,
   "metadata": {},
   "outputs": [],
   "source": [
    "def myCallback2(prob, obj2):\n",
    "    print(f\"CALLBACK 2 TRIGGERED.\")\n",
    "    return (0, None)"
   ]
  },
  {
   "cell_type": "code",
   "execution_count": 6,
   "metadata": {},
   "outputs": [
    {
     "name": "stdout",
     "output_type": "stream",
     "text": [
      "FICO Xpress v9.4.2, Hyper, solve started 12:06:44, Feb 20, 2025\n",
      "Heap usage: 387KB (peak 387KB, 97KB system)\n",
      "Maximizing MILP noname using up to 16 threads and up to 15GB memory, with these control settings:\n",
      "OUTPUTLOG = 1\n",
      "NLPPOSTSOLVE = 1\n",
      "XSLP_DELETIONCONTROL = 0\n",
      "XSLP_OBJSENSE = -1\n",
      "Original problem has:\n",
      "         2 rows            2 cols            4 elements         2 entities\n",
      "Presolved problem has:\n",
      "         0 rows            0 cols            0 elements         0 entities\n",
      "LP relaxation tightened\n",
      "Presolve finished in 0 seconds\n",
      "Heap usage: 391KB (peak 402KB, 97KB system)\n",
      "Will try to keep branch and bound tree memory usage below 8.9GB\n",
      "Starting concurrent solve with dual (1 thread)\n",
      "\n",
      " Concurrent-Solve,   0s\n",
      "            Dual        \n",
      "    objective   dual inf\n",
      " D  19.000000   .0000000\n",
      "                        \n",
      "------- optimal --------\n",
      "Concurrent statistics:\n",
      "           Dual: 0 simplex iterations, 0.00s\n",
      "Optimal solution found\n",
      " \n",
      "   Its         Obj Value      S   Ninf  Nneg   Sum Dual Inf  Time\n",
      "     0         19.000000      D      0     0        .000000     0\n",
      "Dual solved problem\n",
      "  0 simplex iterations in 0.00 seconds at time 0\n",
      "\n",
      "Final objective                       : 1.900000000000000e+01\n",
      "  Max primal violation      (abs/rel) :       0.0 /       0.0\n",
      "  Max dual violation        (abs/rel) :       0.0 /       0.0\n",
      "  Max complementarity viol. (abs/rel) :       0.0 /       0.0\n",
      "\n",
      "Starting root cutting & heuristics\n",
      "Deterministic mode with up to 3 additional threads\n",
      " \n",
      " Its Type    BestSoln    BestBound   Sols    Add    Del     Gap     GInf   Time\n",
      "*           19.000000    19.000000      1                 -0.00%       0      0\n",
      "CALLBACK 2 TRIGGERED.\n",
      " *** Search completed ***\n",
      "Uncrunching matrix\n",
      "Final MIP objective                   : 1.900000000000000e+01\n",
      "Final MIP bound                       : 1.900000000000000e+01\n",
      "  Solution time / primaldual integral :      0.01s/ 66.301673%\n",
      "  Number of solutions found / nodes   :         1 /         1\n",
      "  Max primal violation      (abs/rel) :       0.0 /       0.0\n",
      "  Max integer violation     (abs    ) :       0.0\n"
     ]
    },
    {
     "data": {
      "text/plain": [
       "(<SolveStatus.COMPLETED: 3>, <SolStatus.OPTIMAL: 1>)"
      ]
     },
     "execution_count": 6,
     "metadata": {},
     "output_type": "execute_result"
    }
   ],
   "source": [
    "prob = xp.problem()\n",
    "\n",
    "x = xp.var('x',vartype=xp.integer)\n",
    "y = xp.var('y',vartype=xp.integer)\n",
    "\n",
    "prob.addVariable(x,y)\n",
    "\n",
    "prob.addConstraint(-x+3*y<=9)\n",
    "prob.addConstraint(x+2*y<=11)\n",
    "\n",
    "prob.setObjective(x+4*y,sense=xp.maximize)\n",
    "\n",
    "# addcbpreintsol results in successful calling AND optimal solution\n",
    "# prob.addcbpreintsol(myCallback,1,0)\n",
    "\n",
    "# adcbintsol results in the callback NOT being called. Optimal solution found.\n",
    "prob.addcbintsol(myCallback2,2,0)\n",
    "\n",
    "# adcbintsol results in the callback NOT being called. Optimal solution found.\n",
    "# prob.addcbnewnode(myCallback,3,0)\n",
    "\n",
    "prob.solve()"
   ]
  }
 ],
 "metadata": {
  "kernelspec": {
   "display_name": "TiAOR",
   "language": "python",
   "name": "python3"
  },
  "language_info": {
   "codemirror_mode": {
    "name": "ipython",
    "version": 3
   },
   "file_extension": ".py",
   "mimetype": "text/x-python",
   "name": "python",
   "nbconvert_exporter": "python",
   "pygments_lexer": "ipython3",
   "version": "3.12.3"
  }
 },
 "nbformat": 4,
 "nbformat_minor": 2
}

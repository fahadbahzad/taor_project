{
 "cells": [
  {
   "cell_type": "code",
   "execution_count": 1,
   "metadata": {},
   "outputs": [],
   "source": [
    "import xpress as xp"
   ]
  },
  {
   "cell_type": "code",
   "execution_count": null,
   "metadata": {},
   "outputs": [],
   "source": [
    "def my_callback(prob, data, isheurstic, cutoff):\n",
    "\n",
    "    return"
   ]
  },
  {
   "cell_type": "code",
   "execution_count": null,
   "metadata": {},
   "outputs": [],
   "source": [
    "model = xp.problem()\n",
    "\n",
    "# Maximize x1 + x2 subject to x1 + x2 <= 5 \n",
    "x1 = xp.var(name=\"x1\", vartype=xp.integer)\n",
    "x2 = xp.var(name=\"x2\", vartype=xp.integer)\n",
    "model.addVariable([x1, x2])\n",
    "\n",
    "model.addConstraint(x1 + x2 <= 5)\n",
    "model.setObjective(x1 + x2, sense=xp.maximize)\n",
    "\n",
    "model.addcbpreintsol(my_callback, None, 3) \n",
    "\n",
    "model.solve()"
   ]
  }
 ],
 "metadata": {
  "kernelspec": {
   "display_name": "Xpress",
   "language": "python",
   "name": "python3"
  },
  "language_info": {
   "codemirror_mode": {
    "name": "ipython",
    "version": 3
   },
   "file_extension": ".py",
   "mimetype": "text/x-python",
   "name": "python",
   "nbconvert_exporter": "python",
   "pygments_lexer": "ipython3",
   "version": "3.12.3"
  }
 },
 "nbformat": 4,
 "nbformat_minor": 2
}

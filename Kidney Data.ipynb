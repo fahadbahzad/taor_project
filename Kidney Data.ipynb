{
 "cells": [
  {
   "cell_type": "code",
   "execution_count": null,
   "id": "68da4a45-8001-469d-85ea-47e91ba8c5af",
   "metadata": {},
   "outputs": [],
   "source": [
    "pip install networkx matplotlib"
   ]
  },
  {
   "cell_type": "code",
   "execution_count": null,
   "id": "424e2cf0-3808-4950-9ff5-2f14277fc40e",
   "metadata": {},
   "outputs": [],
   "source": [
    "!pip install scipy"
   ]
  },
  {
   "cell_type": "code",
   "execution_count": 1,
   "id": "4d6a143b-70b3-40d7-a3e1-209e742486f1",
   "metadata": {},
   "outputs": [],
   "source": [
    "import xpress as xp\n",
    "import pandas as pd\n",
    "import math\n",
    "import networkx as nx\n",
    "import matplotlib.pyplot as plt\n",
    "import numpy as np"
   ]
  },
  {
   "cell_type": "markdown",
   "id": "6286e614-902b-4237-953b-79c4d3ea5ad8",
   "metadata": {},
   "source": [
    "# Transform Data Pool into Compatability Graph\n",
    "\n",
    "1. Read Excel file, turn into dataframe\n",
    "2. Turn into Graph using NetworkX\n",
    "3. Turn edges into dictionary with weights\n",
    "4. Find cycles\n",
    "5. Turn list of cycles into dictionary\n",
    "6. Find weights of cycles using the edge dictionary"
   ]
  },
  {
   "cell_type": "code",
   "execution_count": 47,
   "id": "0dd61d0c-8083-440f-93d3-53b9da2d3f94",
   "metadata": {},
   "outputs": [
    {
     "name": "stdout",
     "output_type": "stream",
     "text": [
      "     donor_id  source  recipient  score  altruistic\n",
      "0           0     0.0        NaN    NaN         NaN\n",
      "1           1     1.0        0.0   22.0         NaN\n",
      "2           1     1.0        7.0   86.0         NaN\n",
      "3           1     1.0        9.0   76.0         NaN\n",
      "4           1     1.0       12.0   17.0         NaN\n",
      "..        ...     ...        ...    ...         ...\n",
      "257        63     NaN       29.0   45.0         1.0\n",
      "258        63     NaN       38.0   53.0         1.0\n",
      "259        63     NaN       39.0   72.0         1.0\n",
      "260        63     NaN       43.0   76.0         1.0\n",
      "261        63     NaN       55.0   37.0         1.0\n",
      "\n",
      "[262 rows x 5 columns]\n"
     ]
    }
   ],
   "source": [
    "# Read the Excel file, turn into dataframe\n",
    "pool = pd.read_excel('SampleData.xlsx', engine='openpyxl')\n",
    "\n",
    "# Remove unnecessary coloumns\n",
    "df = pool.drop('dage', axis=1)\n",
    "\n",
    "print(df)"
   ]
  },
  {
   "cell_type": "code",
   "execution_count": 48,
   "id": "6968902a-02bd-4f35-a2e8-a410de01047c",
   "metadata": {},
   "outputs": [],
   "source": [
    "def compatibility_network(df):\n",
    "    G = nx.DiGraph() \n",
    "\n",
    "    if isinstance(df, list):\n",
    "        pool = pd.DataFrame(df)  \n",
    "    else:\n",
    "        pool = df.copy()\n",
    "    \n",
    "    # Convert to numeric and handle NaN\n",
    "    pool['source'] = pd.to_numeric(pool['source'], errors='coerce')\n",
    "    pool['recipient'] = pd.to_numeric(pool['recipient'], errors='coerce')\n",
    "    pool['score'] = pd.to_numeric(pool['score'], errors='coerce')\n",
    "\n",
    "    # Create a list where each donor_id maps to a list of recipients\n",
    "    matches = []\n",
    "    for _, row in pool.iterrows():\n",
    "        source = row['source']\n",
    "        recipient = row['recipient']\n",
    "        score = row['score']\n",
    "\n",
    "        # Ensure valid donor & recipient\n",
    "        if not np.isnan(source) and not np.isnan(recipient):  \n",
    "            matches.append((source, recipient, score))\n",
    "    \n",
    "    # Add nodes and edges to the graph\n",
    "    for source, recipient, score in matches:\n",
    "        G.add_node(source)\n",
    "        G.add_node(recipient)\n",
    "        G.add_edge(source, recipient, score=score)\n",
    "    \n",
    "    # Draw the graph\n",
    "    #plt.figure(figsize=(12, 10))\n",
    "    #pos = nx.spring_layout(G, k=0.5, seed=42) \n",
    "    #nx.draw(G, pos, with_labels=True, node_color='lightblue', edge_color='black', \n",
    "            #node_size=200, font_size=5, font_weight='bold', arrows=True)\n",
    "\n",
    "    # Add weights as labels\n",
    "    #edge_labels = {(source, recipient): f\"{score:.1f}\" for source, recipient, score in matches}\n",
    "    #nx.draw_networkx_edge_labels(G, pos, edge_labels=edge_labels, font_size=8, font_color='red')\n",
    "    \n",
    "    #plt.title(\"Compatibility Network\")\n",
    "    #plt.show()\n",
    "\n",
    "    return G"
   ]
  },
  {
   "cell_type": "code",
   "execution_count": 49,
   "id": "0c2fff5a-5d4f-4732-a37f-1b8a70246945",
   "metadata": {},
   "outputs": [],
   "source": [
    "G = compatibility_network(df)"
   ]
  },
  {
   "cell_type": "code",
   "execution_count": 50,
   "id": "c01aaa04-35d2-470a-bc6e-ea939042c9c9",
   "metadata": {},
   "outputs": [
    {
     "name": "stdout",
     "output_type": "stream",
     "text": [
      "{(0.0, nan): nan, (1.0, 0.0): 22.0, (1.0, 7.0): 86.0, (1.0, 9.0): 76.0, (1.0, 12.0): 17.0, (1.0, 18.0): 85.0, (1.0, 20.0): 30.0, (1.0, 22.0): 89.0, (1.0, 29.0): 24.0, (1.0, 34.0): 69.0, (1.0, 46.0): 43.0, (1.0, 51.0): 46.0, (2.0, 0.0): 79.0, (2.0, 4.0): 17.0, (2.0, 7.0): 54.0, (2.0, 9.0): 15.0, (2.0, 20.0): 44.0, (2.0, 25.0): 69.0, (2.0, 26.0): 57.0, (2.0, 36.0): 89.0, (2.0, 38.0): 11.0, (2.0, 51.0): 15.0, (3.0, 7.0): 33.0, (3.0, 26.0): 66.0, (4.0, 20.0): 60.0, (5.0, 0.0): 86.0, (5.0, 3.0): 62.0, (5.0, 7.0): 63.0, (5.0, 8.0): 17.0, (5.0, 18.0): 11.0, (5.0, 20.0): 44.0, (5.0, 22.0): 34.0, (5.0, 29.0): 74.0, (5.0, 38.0): 48.0, (5.0, 45.0): 4.0, (5.0, 53.0): 33.0, (5.0, 60.0): 14.0, (7.0, 20.0): 57.0, (7.0, 22.0): 64.0, (8.0, 7.0): 52.0, (8.0, 26.0): 23.0, (8.0, 31.0): 38.0, (8.0, 47.0): 52.0, (8.0, 57.0): 67.0, (9.0, 20.0): 83.0, (9.0, 22.0): 20.0, (10.0, 7.0): 34.0, (10.0, 9.0): 46.0, (11.0, 7.0): 17.0, (11.0, 55.0): 36.0, (12.0, 7.0): 10.0, (12.0, 26.0): 24.0, (12.0, 54.0): 25.0, (13.0, 0.0): 81.0, (13.0, 3.0): 71.0, (13.0, 5.0): 87.0, (13.0, 18.0): 70.0, (13.0, 20.0): 82.0, (13.0, 38.0): 55.0, (13.0, 39.0): 62.0, (13.0, 51.0): 84.0, (13.0, 53.0): 57.0, (13.0, 54.0): 15.0, (14.0, 0.0): 35.0, (14.0, 7.0): 5.0, (14.0, 18.0): 56.0, (14.0, 20.0): 83.0, (14.0, 27.0): 3.0, (14.0, 29.0): 72.0, (14.0, 38.0): 87.0, (14.0, 43.0): 37.0, (14.0, 45.0): 14.0, (14.0, 50.0): 89.0, (14.0, 52.0): 57.0, (14.0, 54.0): 82.0, (14.0, 60.0): 28.0, (15.0, 0.0): 7.0, (15.0, 3.0): 85.0, (15.0, 7.0): 64.0, (15.0, 18.0): 85.0, (15.0, 20.0): 31.0, (15.0, 29.0): 5.0, (15.0, 38.0): 47.0, (15.0, 52.0): 86.0, (15.0, 53.0): 67.0, (15.0, 54.0): 2.0, (15.0, 59.0): 54.0, (16.0, 7.0): 72.0, (16.0, 15.0): 37.0, (16.0, 18.0): 36.0, (16.0, 20.0): 65.0, (16.0, 29.0): 6.0, (16.0, 38.0): 87.0, (16.0, 41.0): 76.0, (16.0, 43.0): 3.0, (18.0, 20.0): 25.0, (20.0, 7.0): 15.0, (20.0, 46.0): 60.0, (22.0, 7.0): 36.0, (22.0, 39.0): 53.0, (22.0, 55.0): 46.0, (24.0, 7.0): 22.0, (24.0, 30.0): 40.0, (25.0, 0.0): 6.0, (25.0, 1.0): 24.0, (25.0, 7.0): 76.0, (25.0, 18.0): 36.0, (25.0, 20.0): 10.0, (25.0, 29.0): 8.0, (25.0, 34.0): 26.0, (25.0, 38.0): 1.0, (25.0, 45.0): 13.0, (26.0, 20.0): 31.0, (27.0, 7.0): 29.0, (27.0, 28.0): 66.0, (27.0, 36.0): 2.0, (27.0, 46.0): 30.0, (28.0, 7.0): 79.0, (28.0, 12.0): 79.0, (28.0, 55.0): 11.0, (29.0, 20.0): 41.0, (30.0, 7.0): 80.0, (30.0, 46.0): 22.0, (30.0, 47.0): 8.0, (30.0, 54.0): 29.0, (31.0, 7.0): 53.0, (31.0, 51.0): 40.0, (31.0, 57.0): 29.0, (34.0, 0.0): 9.0, (34.0, 7.0): 66.0, (34.0, 18.0): 10.0, (34.0, 20.0): 51.0, (34.0, 26.0): 38.0, (34.0, 29.0): 46.0, (34.0, 38.0): 28.0, (35.0, 7.0): 72.0, (35.0, 30.0): 53.0, (35.0, 44.0): 37.0, (35.0, 51.0): 27.0, (36.0, 0.0): 88.0, (36.0, 1.0): 56.0, (36.0, 5.0): 43.0, (36.0, 7.0): 2.0, (36.0, 20.0): 51.0, (36.0, 29.0): 89.0, (36.0, 31.0): 41.0, (36.0, 40.0): 49.0, (36.0, 41.0): 30.0, (36.0, 51.0): 45.0, (36.0, 53.0): 15.0, (36.0, 56.0): 65.0, (38.0, 7.0): 42.0, (38.0, 56.0): 40.0, (39.0, 7.0): 87.0, (40.0, 20.0): 57.0, (41.0, 7.0): 84.0, (43.0, 1.0): 75.0, (43.0, 7.0): 32.0, (44.0, 0.0): 34.0, (44.0, 8.0): 21.0, (44.0, 18.0): 5.0, (44.0, 22.0): 37.0, (44.0, 29.0): 80.0, (44.0, 30.0): 72.0, (44.0, 38.0): 89.0, (44.0, 43.0): 70.0, (44.0, 57.0): 5.0, (44.0, 58.0): 0.0, (45.0, 1.0): 43.0, (45.0, 7.0): 0.0, (45.0, 26.0): 73.0, (46.0, 3.0): 84.0, (46.0, 20.0): 76.0, (46.0, 35.0): 85.0, (47.0, 7.0): 56.0, (50.0, 9.0): 44.0, (50.0, 44.0): 76.0, (50.0, 55.0): 37.0, (51.0, 0.0): 63.0, (51.0, 7.0): 41.0, (51.0, 16.0): 21.0, (51.0, 18.0): 60.0, (51.0, 20.0): 37.0, (51.0, 29.0): 65.0, (51.0, 35.0): 75.0, (51.0, 38.0): 20.0, (51.0, 41.0): 86.0, (51.0, 58.0): 17.0, (52.0, 7.0): 76.0, (52.0, 28.0): 40.0, (52.0, 46.0): 65.0, (52.0, 56.0): 84.0, (53.0, 0.0): 21.0, (53.0, 2.0): 3.0, (53.0, 5.0): 2.0, (53.0, 7.0): 71.0, (53.0, 11.0): 6.0, (53.0, 18.0): 72.0, (53.0, 20.0): 31.0, (53.0, 36.0): 56.0, (53.0, 38.0): 41.0, (53.0, 47.0): 26.0, (54.0, 2.0): 26.0, (54.0, 3.0): 45.0, (54.0, 7.0): 12.0, (54.0, 12.0): 13.0, (54.0, 18.0): 48.0, (54.0, 20.0): 44.0, (54.0, 29.0): 86.0, (54.0, 38.0): 41.0, (54.0, 39.0): 15.0, (55.0, 7.0): 79.0, (55.0, 30.0): 27.0, (55.0, 44.0): 47.0, (56.0, 0.0): 61.0, (56.0, 7.0): 63.0, (56.0, 18.0): 58.0, (56.0, 20.0): 40.0, (56.0, 25.0): 88.0, (56.0, 29.0): 6.0, (56.0, 36.0): 1.0, (56.0, 38.0): 86.0, (56.0, 52.0): 24.0, (56.0, 59.0): 66.0, (57.0, 0.0): 11.0, (57.0, 7.0): 60.0, (57.0, 11.0): 3.0, (57.0, 18.0): 32.0, (57.0, 20.0): 35.0, (57.0, 29.0): 58.0, (57.0, 47.0): 72.0, (57.0, 53.0): 71.0, (57.0, 56.0): 57.0, (58.0, 7.0): 80.0, (58.0, 39.0): 75.0, (59.0, 0.0): 27.0, (59.0, 7.0): 32.0, (59.0, 18.0): 51.0, (59.0, 20.0): 77.0, (59.0, 29.0): 18.0, (59.0, 35.0): 64.0, (59.0, 38.0): 72.0, (60.0, 7.0): 59.0, (60.0, 54.0): 86.0, (nan, 7.0): 62.0, (nan, 47.0): 9.0, (nan, 10.0): 72.0, (nan, 20.0): 8.0, (nan, 0.0): 86.0, (nan, 2.0): 51.0, (nan, 4.0): 42.0, (nan, 7.0): 74.0, (nan, 14.0): 33.0, (nan, 16.0): 1.0, (nan, 18.0): 82.0, (nan, 20.0): 57.0, (nan, 25.0): 65.0, (nan, 29.0): 45.0, (nan, 38.0): 53.0, (nan, 39.0): 72.0, (nan, 43.0): 76.0, (nan, 55.0): 37.0}\n"
     ]
    }
   ],
   "source": [
    "# Transform into dictionary the way Fahad had set up his model\n",
    "edges = df.set_index(['source', 'recipient'])['score'].to_dict()\n",
    "\n",
    "print(edges)"
   ]
  },
  {
   "cell_type": "code",
   "execution_count": 35,
   "id": "f5aec195-6994-44b5-96d0-8a6cb538efb5",
   "metadata": {},
   "outputs": [],
   "source": [
    "cycles = sorted(nx.simple_cycles(G, length_bound=4))\n",
    "\n",
    "# Very particular output to make sure we can turn it into a dictionary\n",
    "with open(\"output.txt\", \"w\") as f: \n",
    "    for cycle in cycles:\n",
    "        print(\",\".join(map(str, cycle)), file=f)"
   ]
  },
  {
   "cell_type": "code",
   "execution_count": 40,
   "id": "6da1eced-15f7-44b9-aab1-f33c09415598",
   "metadata": {},
   "outputs": [
    {
     "name": "stdout",
     "output_type": "stream",
     "text": [
      "{0: (1.0, 51.0, 16.0, 43.0), 1: (2.0, 36.0, 5.0, 53.0), 2: (2.0, 36.0, 53.0), 3: (3.0, 7.0, 20.0, 46.0), 4: (3.0, 26.0, 20.0, 46.0), 5: (5.0, 8.0, 57.0, 53.0), 6: (5.0, 38.0, 56.0, 36.0), 7: (5.0, 53.0), 8: (5.0, 53.0, 36.0), 9: (7.0, 20.0), 10: (7.0, 20.0, 46.0, 35.0), 11: (7.0, 22.0), 12: (7.0, 22.0, 39.0), 13: (7.0, 22.0, 55.0), 14: (7.0, 22.0, 55.0, 30.0), 15: (11.0, 55.0, 44.0, 57.0), 16: (12.0, 54.0), 17: (20.0, 46.0), 18: (20.0, 46.0, 35.0, 51.0), 19: (22.0, 55.0, 44.0), 20: (34.0, 38.0, 56.0, 25.0), 21: (35.0, 30.0, 46.0), 22: (35.0, 44.0, 30.0, 46.0), 23: (35.0, 51.0), 24: (36.0, 31.0, 57.0, 53.0), 25: (36.0, 31.0, 57.0, 56.0), 26: (36.0, 51.0, 38.0, 56.0), 27: (36.0, 53.0), 28: (36.0, 53.0, 38.0, 56.0), 29: (36.0, 56.0), 30: (38.0, 56.0), 31: (38.0, 56.0, 25.0), 32: (38.0, 56.0, 59.0), 33: (56.0, 52.0)}\n"
     ]
    }
   ],
   "source": [
    "# Read the file and convert each line into a tuple\n",
    "with open(\"output.txt\", \"r\") as f:\n",
    "    cycles = [tuple(map(float, line.strip().split(\",\"))) for line in f if line.strip()]\n",
    "\n",
    "# Convert list of tuples into a dictionary\n",
    "cycles_dict = {i: cycle for i, cycle in enumerate(cycles)}\n",
    "print(cycles_dict)"
   ]
  },
  {
   "cell_type": "code",
   "execution_count": 52,
   "id": "3341df0a-e327-4caf-9609-1ba561c7f6e1",
   "metadata": {},
   "outputs": [
    {
     "name": "stdout",
     "output_type": "stream",
     "text": [
      "{(1.0, 51.0, 16.0, 43.0): 145.0, (2.0, 36.0, 5.0, 53.0): 168.0, (2.0, 36.0, 53.0): 107.0, (3.0, 7.0, 20.0, 46.0): 234.0, (3.0, 26.0, 20.0, 46.0): 241.0, (5.0, 8.0, 57.0, 53.0): 157.0, (5.0, 38.0, 56.0, 36.0): 132.0, (5.0, 53.0): 35.0, (5.0, 53.0, 36.0): 132.0, (7.0, 20.0): 72.0, (7.0, 20.0, 46.0, 35.0): 274.0, (7.0, 22.0): 100.0, (7.0, 22.0, 39.0): 204.0, (7.0, 22.0, 55.0): 189.0, (7.0, 22.0, 55.0, 30.0): 217.0, (11.0, 55.0, 44.0, 57.0): 91.0, (12.0, 54.0): 38.0, (20.0, 46.0): 136.0, (20.0, 46.0, 35.0, 51.0): 209.0, (22.0, 55.0, 44.0): 130.0, (34.0, 38.0, 56.0, 25.0): 182.0, (35.0, 30.0, 46.0): 160.0, (35.0, 44.0, 30.0, 46.0): 216.0, (35.0, 51.0): 102.0, (36.0, 31.0, 57.0, 53.0): 197.0, (36.0, 31.0, 57.0, 56.0): 128.0, (36.0, 51.0, 38.0, 56.0): 106.0, (36.0, 53.0): 71.0, (36.0, 53.0, 38.0, 56.0): 97.0, (36.0, 56.0): 66.0, (38.0, 56.0): 126.0, (38.0, 56.0, 25.0): 129.0, (38.0, 56.0, 59.0): 178.0, (56.0, 52.0): 108.0}\n"
     ]
    }
   ],
   "source": [
    "# Function to calculate the sum of weights for a given cycle\n",
    "def get_cycle_weight(cycle, edges):\n",
    "    total_weight = 0\n",
    "    for i in range(len(cycle) - 1):\n",
    "        edge = (cycle[i], cycle[i + 1])\n",
    "        if edge in edges:\n",
    "            total_weight += edges[edge]\n",
    "        \n",
    "    # Add the weight for the edge from the last node to the first node\n",
    "    closing_edge = (cycle[-1], cycle[0])\n",
    "    if closing_edge in edges:\n",
    "        total_weight += edges[closing_edge]\n",
    "        \n",
    "    return total_weight\n",
    "\n",
    "# Create dictionary with cycles and weights\n",
    "cycles_with_weights = {\n",
    "    tuple(cycle): get_cycle_weight(cycle, edges)\n",
    "    for cycle in cycles_dict.values()\n",
    "}\n",
    "\n",
    "print(cycles_with_weights)"
   ]
  },
  {
   "cell_type": "markdown",
   "id": "ce758eae-63f8-4b8a-8ea9-1a72fe1e3377",
   "metadata": {},
   "source": [
    "# Code to turn the edge dictionary into a dataframe so we can graph it"
   ]
  },
  {
   "cell_type": "code",
   "execution_count": 34,
   "id": "a2cf5a1b-9d57-41c0-b10c-ecca249d92b0",
   "metadata": {},
   "outputs": [
    {
     "name": "stdout",
     "output_type": "stream",
     "text": [
      "     source  recipient  score\n",
      "0       0.0        NaN    NaN\n",
      "1       1.0        0.0   22.0\n",
      "2       1.0        7.0   86.0\n",
      "3       1.0        9.0   76.0\n",
      "4       1.0       12.0   17.0\n",
      "..      ...        ...    ...\n",
      "257     NaN       29.0   45.0\n",
      "258     NaN       38.0   53.0\n",
      "259     NaN       39.0   72.0\n",
      "260     NaN       43.0   76.0\n",
      "261     NaN       55.0   37.0\n",
      "\n",
      "[262 rows x 3 columns]\n"
     ]
    }
   ],
   "source": [
    "# Convert to DataFrame\n",
    "data = pd.DataFrame(list(dictionary.items()), columns=['pair', 'score'])\n",
    "\n",
    "# Split 'pair' tuple into two separate columns\n",
    "data[['source', 'recipient']] = pd.DataFrame(data['pair'].tolist(), index=df.index)\n",
    "\n",
    "# Drop the original 'pair' column\n",
    "data = data.drop(columns=['pair'])\n",
    "\n",
    "# Reorder columns\n",
    "data = data[['source', 'recipient', 'score']]\n",
    "\n",
    "print(data)"
   ]
  },
  {
   "cell_type": "markdown",
   "id": "0baf93b0-0433-426e-bbdd-1fd3653e69b1",
   "metadata": {},
   "source": [
    "# Ignore! Attempt at cycle detection and extra code that is not used now but maybe used later"
   ]
  },
  {
   "cell_type": "code",
   "execution_count": 71,
   "id": "b86566a9-8e74-4a98-8666-c3a145d4c23a",
   "metadata": {},
   "outputs": [
    {
     "name": "stdout",
     "output_type": "stream",
     "text": [
      "[0, 1, 2, 3, 4, 5, 7, 8, 9, 10, 11, 12, 13, 14, 15, 16, 18, 20, 22, 24, 25, 26, 27, 28, 29, 30, 31, 34, 35, 36, 38, 39, 40, 41, 43, 44, 45, 46, 47, 50, 51, 52, 53, 54, 55, 56, 57, 58, 59, 60, 61, 62, 63]\n"
     ]
    }
   ],
   "source": [
    "allarcs = list(dictionary.keys())\n",
    "arcs = [a for a in arcs if not math.isnan(a[0]) and not math.isnan(a[1])]\n",
    "donors = df['donor_id'].to_list()\n",
    "nodes = list(set(donors))\n",
    "print(nodes)"
   ]
  },
  {
   "cell_type": "code",
   "execution_count": 78,
   "id": "9e912f39-9b06-40b5-ad4a-085db5009c7c",
   "metadata": {},
   "outputs": [
    {
     "name": "stdout",
     "output_type": "stream",
     "text": [
      "Cycle: [0, 1.0, 7.0, 2.0]\n",
      "Cycle: [2.0, 4.0, 20.0]\n",
      "Cycle: [5.0, 3.0, 26.0, 8.0]\n",
      "Cycle: [15.0, 29.0, 16.0]\n",
      "Cycle: [15.0, 29.0, 16.0, 38.0]\n",
      "Cycle: [29.0, 16.0, 38.0, 25.0]\n",
      "Cycle: [38.0, 25.0, 34.0]\n",
      "Cycle: [35.0, 30.0, 46.0]\n",
      "Cycle: [44.0, 35.0, 30.0]\n",
      "Cycle: [22.0, 9.0, 50.0, 44.0]\n",
      "Cycle: [55.0, 22.0, 9.0, 50.0]\n",
      "Cycle: [38.0, 25.0, 56.0]\n",
      "Cycle: [38.0, 25.0, 56.0]\n",
      "Cycle: [54.0, 15.0, 29.0]\n",
      "Cycle: [51.0, 13.0, 18.0]\n",
      "Cycle: [20.0, 5.0, 3.0, 26.0]\n",
      "Cycle: [7.0, 2.0, 4.0, 20.0]\n",
      "Cycle: [7.0, 2.0, 4.0, 20.0]\n"
     ]
    }
   ],
   "source": [
    "# Initialize the graph\n",
    "graph = defaultdict(list)\n",
    "for u, v in arcs:\n",
    "    graph[u].append(v)\n",
    "    graph[v].append(u)\n",
    "\n",
    "visited = set()\n",
    "cycles = []\n",
    "\n",
    "def dfs(node, parent, path):\n",
    "    # Mark the current node as visited\n",
    "    visited.add(node)\n",
    "    path.append(node)\n",
    "    \n",
    "    # Explore neighbors\n",
    "    for neighbor in graph[node]:\n",
    "        # If the neighbor hasn't been visited, recurse into it\n",
    "        if neighbor not in visited:\n",
    "            dfs(neighbor, node, path)\n",
    "        # If the neighbor is visited and is not the parent, we've found a cycle\n",
    "        elif neighbor != parent:\n",
    "            # We found a cycle, extract the cycle path\n",
    "            if neighbor in path:  # Ensure the neighbor is in the current path\n",
    "                cycle_index = path.index(neighbor)\n",
    "                cycle = path[cycle_index:]  # Extract the cycle from the path\n",
    "\n",
    "                if len(cycle) < 5:\n",
    "                    cycles.append(cycle)\n",
    "    \n",
    "    # Backtrack from the current node\n",
    "    path.pop()\n",
    "\n",
    "# For every node, perform DFS if it hasn't been visited yet\n",
    "for node in nodes:\n",
    "    if node not in visited:\n",
    "        dfs(node, None, [])\n",
    "\n",
    "# Print all detected cycles\n",
    "if cycles:\n",
    "    for cycle in cycles:\n",
    "        print(\"Cycle:\", cycle)\n",
    "else:\n",
    "    print(\"No cycles detected.\")\n"
   ]
  },
  {
   "cell_type": "code",
   "execution_count": null,
   "id": "a34961ee-61a0-4aa4-91c9-fe571899ee18",
   "metadata": {},
   "outputs": [],
   "source": []
  }
 ],
 "metadata": {
  "kernelspec": {
   "display_name": "Python 3 (ipykernel)",
   "language": "python",
   "name": "python3"
  },
  "language_info": {
   "codemirror_mode": {
    "name": "ipython",
    "version": 3
   },
   "file_extension": ".py",
   "mimetype": "text/x-python",
   "name": "python",
   "nbconvert_exporter": "python",
   "pygments_lexer": "ipython3",
   "version": "3.12.8"
  }
 },
 "nbformat": 4,
 "nbformat_minor": 5
}

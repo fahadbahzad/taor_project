{
 "cells": [
  {
   "cell_type": "markdown",
   "metadata": {},
   "source": [
    "This file is a sort of testpad for developing stochastic aspects of the model."
   ]
  },
  {
   "cell_type": "code",
   "execution_count": 98,
   "metadata": {},
   "outputs": [],
   "source": [
    "import numpy as np\n",
    "import random\n",
    "import xpress as xp\n",
    "xp.init('C:/Program Files/xpressmp/bin/xpauth_personal.xpr') # For licensing.\n",
    "\n",
    "import networkx as nx\n",
    "import time"
   ]
  },
  {
   "cell_type": "code",
   "execution_count": 99,
   "metadata": {},
   "outputs": [],
   "source": [
    "# # Example input data 1\n",
    "\n",
    "# pairs = [\"P1\", \"P2\", \"P3\", \"P4\"] \n",
    "# altruistic_donors = [\"NDD1\"]\n",
    "# nodes = pairs + altruistic_donors\n",
    "# edges = {(\"NDD1\", \"P1\"): 2,\n",
    "#          (\"P1\", \"P2\"): 10, \n",
    "#          (\"P2\", \"P3\"): 10,\n",
    "#          (\"P3\", \"P4\"): 10,\n",
    "#          (\"P4\", \"P1\"): 10\n",
    "# }\n",
    "\n",
    "# # Example input data 2\n",
    "\n",
    "# pairs = [\"P1\", \"P2\", \"P3\", \"P4\", \"P5\"] \n",
    "# altruistic_donors = [\"NDD1\"]\n",
    "# nodes = pairs + altruistic_donors\n",
    "# edges = {(\"NDD1\", \"P1\"): 0.1,\n",
    "#          (\"P1\", \"P2\"): 10, \n",
    "#          (\"P2\", \"P3\"): 9,\n",
    "#          (\"P3\", \"P4\"): 8,\n",
    "#          (\"P4\", \"P5\"): 7,\n",
    "#          (\"P5\", \"P1\"): 6\n",
    "# }\n",
    "\n",
    "# Example input data 3\n",
    "\n",
    "pairs = [\"P1\", \"P2\", \"P3\", \"P4\", \"P5\"] \n",
    "altruistic_donors = [\"NDD1\"]\n",
    "nodes = pairs + altruistic_donors\n",
    "edges = {(\"NDD1\", \"P1\"): 0.1,\n",
    "         (\"P1\", \"P2\"): 10, \n",
    "         (\"P2\", \"P3\"): 9,\n",
    "         (\"P3\", \"P4\"): 8,\n",
    "         (\"P4\", \"P5\"): 7\n",
    "}\n"
   ]
  },
  {
   "cell_type": "code",
   "execution_count": 100,
   "metadata": {},
   "outputs": [],
   "source": [
    "P_dropout_pairs = 0.1\n",
    "P_dropout_altruistic = 0.1"
   ]
  },
  {
   "cell_type": "code",
   "execution_count": 101,
   "metadata": {},
   "outputs": [],
   "source": [
    "deleted_nodes = [pair for pair in pairs if np.random.uniform() <= P_dropout_pairs] +\\\n",
    "                [NDD for NDD in altruistic_donors if np.random.uniform() <= P_dropout_altruistic]"
   ]
  },
  {
   "cell_type": "code",
   "execution_count": 102,
   "metadata": {},
   "outputs": [
    {
     "data": {
      "text/plain": [
       "[]"
      ]
     },
     "execution_count": 102,
     "metadata": {},
     "output_type": "execute_result"
    }
   ],
   "source": [
    "deleted_nodes"
   ]
  },
  {
   "cell_type": "code",
   "execution_count": 124,
   "metadata": {},
   "outputs": [],
   "source": [
    "def get_S(edges, deleted_nodes):\n",
    "    ''' Takes edges and deleted_nodes, returns S encoding which edges survive.\n",
    "    S is a dictionary: the keys are the edges of the compatibility graph.\n",
    "    S[e] is 1 if the edge e survives the deletion of nodes and 0 otherwise.\n",
    "    '''\n",
    "    \n",
    "    S = {e : 0 if e[0] in deleted_nodes or e[1] in deleted_nodes else 1 for e in edges}\n",
    "    return S"
   ]
  },
  {
   "cell_type": "code",
   "execution_count": 125,
   "metadata": {},
   "outputs": [],
   "source": [
    "def generate_scenarios(pairs, altruistic_donors, edges):\n",
    "    \"\"\"\n",
    "    Generate a list of dictionaries which encode edge survival.\n",
    "\n",
    "    Args:\n",
    "        pairs: list\n",
    "        altruistic_donors: list\n",
    "        edges: dictionary (keys: 2-tuple (in/out vx); values: weight of edge)\n",
    "        N: number of scenarios to generate\n",
    "\n",
    "    Returns:\n",
    "        scenarios: a list of dictionaries. Each dictionary is a scenario; in\n",
    "            each dictionary, keys are edges, value is 1 if edge survives else 0.\n",
    "    \"\"\"\n",
    "\n",
    "    nodes = pairs+altruistic_donors\n",
    "\n",
    "    scenarios = []\n",
    "\n",
    "    # DELETE one node:\n",
    "    # PROOF OF CONCEPT!\n",
    "    # TODO: extend so that the deletion of nodes can be more general than this \n",
    "    # approach.\n",
    "\n",
    "    for node in nodes:\n",
    "\n",
    "        deleted_nodes = [node]\n",
    "        S = get_S(edges, deleted_nodes)\n",
    "\n",
    "        scenarios.append(S)\n",
    "\n",
    "    return scenarios"
   ]
  },
  {
   "cell_type": "code",
   "execution_count": 126,
   "metadata": {},
   "outputs": [],
   "source": [
    "scenarios = generate_scenarios(pairs, altruistic_donors, edges)"
   ]
  },
  {
   "cell_type": "code",
   "execution_count": 127,
   "metadata": {},
   "outputs": [],
   "source": [
    "k = 3"
   ]
  },
  {
   "cell_type": "code",
   "execution_count": null,
   "metadata": {},
   "outputs": [
    {
     "name": "stdout",
     "output_type": "stream",
     "text": [
      "\n",
      "##########################################################\n",
      "OPTIMIZATION COMPLETE: no cycles of length more than 3.\n",
      "##########################################################\n",
      "\n",
      "The optimization took 0.008709430694580078 seconds to execute.\n",
      "\n",
      "\n",
      "\n",
      "Total Benefit: 9.4\n",
      "\n",
      "\n",
      "\n"
     ]
    }
   ],
   "source": [
    "# Create the loop!\n",
    "\n",
    "# Create Xpress Model\n",
    "# Initialize the model\n",
    "prob = xp.problem()\n",
    "\n",
    "# Define decision variables for each edge\n",
    "y = {e: xp.var(vartype=xp.binary, name=f\"y_{e[0]}_{e[1]}\") for e in edges}\n",
    "prob.addVariable(list(y.values()))\n",
    "\n",
    "# Define decision variables for second stage (after node deletion)\n",
    "x = {(e,s) : xp.var(vartype=xp.binary, name=f\"x_{e[0]}_{e[1]}_{s}\") \n",
    "     for e in edges for s,_ in enumerate(scenarios)}\n",
    "\n",
    "\n",
    "prob.addVariable(list(x.values()))\n",
    "\n",
    "# Objective: Maximize total benefit\n",
    "# prob.setObjective(xp.Sum(y[e] * w for e, w in edges.items()), sense=xp.maximize)\n",
    "\n",
    "objective = xp.Sum(w*x[e,s]/len(scenarios) for e, w in edges.items() for s, _ in enumerate(scenarios))\n",
    "\n",
    "# print(objective)\n",
    "\n",
    "prob.setObjective(objective, sense=xp.maximize)\n",
    "\n",
    "# Constraints\n",
    "for v in pairs:\n",
    "    prob.addConstraint(xp.Sum(y[e] for e in edges if e[0] == v) <= xp.Sum(y[e] for e in edges if e[1] == v))\n",
    "    prob.addConstraint(xp.Sum(y[e] for e in edges if e[1] == v) <= 1)\n",
    "\n",
    "    for s, _ in enumerate(scenarios):\n",
    "        prob.addConstraint(xp.Sum(x[(e,s)] for e in edges if e[0] == v) <= xp.Sum(x[e,s] for e in edges if e[1] == v))\n",
    "        prob.addConstraint(xp.Sum(x[(e,s)] for e in edges if e[1] == v) <= 1)\n",
    "\n",
    "for a in altruistic_donors:\n",
    "    for s, _ in enumerate(scenarios):\n",
    "        prob.addConstraint(xp.Sum(x[e,s] for e in edges if e[0] == a) <= 1)\n",
    "\n",
    "for s, S in enumerate(scenarios):\n",
    "    for e in edges:\n",
    "        prob.addConstraint(x[e,s] <= S[e]*y[e])\n",
    "\n",
    "finished = False # A flag to mark the end of the optimization.\n",
    "infeasible = False # A (currently unused) flag to mark no feasible solution.\n",
    "# TODO: Add a catch for no feasible solution. This shouldn't happen but it is\n",
    "# probably better to be robust about this.\n",
    "\n",
    "prob.controls.outputlog = 0 # This just makes it quiet to run\n",
    "\n",
    "Gstart_time = time.time()\n",
    "\n",
    "\n",
    "# prob.solve()\n",
    "\n",
    "while finished == False and infeasible == False:\n",
    "    \n",
    "\n",
    "    start_time = time.time()\n",
    "\n",
    "\n",
    "    # Solve the model\n",
    "    \n",
    "    prob.solve()\n",
    "    opt_sol = prob.getSolution()\n",
    "    \n",
    "    # print(f\"Solver took {time.time()-start_time} seconds to run\")\n",
    "    start_time = time.time()\n",
    "\n",
    "    # Construct the graph from the optimal solution:\n",
    "    DG = nx.DiGraph()\n",
    "    selected_edges = [list(edges.keys())[i] for i, e in enumerate(list(edges.keys())) if opt_sol[i]>0.5]\n",
    "    DG.add_edges_from(selected_edges)\n",
    "\n",
    "    # Check if there is a cycle length that is too long:\n",
    "    cycles = list(nx.simple_cycles(DG))\n",
    "    \n",
    "    # print(f\"Finding the cycles took {time.time()-start_time} seconds\")\n",
    "    start_time = time.time()\n",
    "\n",
    "    # If ok, report done.\n",
    "    # TODO: Rewrite this so that it is with the max_cycle bit...\n",
    "    if cycles==[] or max(map(len,cycles))<=k:\n",
    "        print(\"\")\n",
    "        print(\"##########################################################\")\n",
    "        print(f\"OPTIMIZATION COMPLETE: no cycles of length more than {k}.\")\n",
    "        print(\"##########################################################\")\n",
    "        print(\"\")\n",
    "        finished = True\n",
    "        break\n",
    "    \n",
    "    # If not done, report that reoptimization is required:\n",
    "    else:\n",
    "        print(\"\")\n",
    "        print(\"#################################################################\")\n",
    "        print(f\"REOPTIMIZATION REQUIRED: proposed solution contains long cycles.\")\n",
    "        print(\"#################################################################\")\n",
    "        print(\"\")\n",
    "\n",
    "    # Take the long cycle we found and make a note of its edges:\n",
    "    max_cycle = max(cycles,key=len)\n",
    "    cycle_edges = [(max_cycle[i],max_cycle[i+1]) for i in range(len(max_cycle)-1)]\n",
    "    cycle_edges += [(max_cycle[-1],max_cycle[0])]\n",
    "\n",
    "    # Add the constraint to remove this as an option: \n",
    "    prob.addConstraint(xp.Sum(y[e] for e in cycle_edges) <= len(max_cycle)-1)\n",
    "\n",
    "\n",
    "\n",
    "print(f\"The optimization took {time.time() - Gstart_time} seconds to execute.\")\n",
    "\n",
    "\n",
    "\n",
    "\n",
    "# Print the output\n",
    "print(\"\")\n",
    "print(\"\")\n",
    "print(\"\")\n",
    "\n",
    "# print(\"Optimal Matches:\")\n",
    "# for (u, v), var in y.items():\n",
    "#     if prob.getSolution(var) > 0.5:\n",
    "#         print(f\"{u} donates to {v} with benefit {edges[(u,v)]}\")\n",
    "\n",
    "solution_edges = [e for e in edges if prob.getSolution(y[e]) > 0.05]\n",
    "\n",
    "print(f\"Total Benefit: {prob.getObjVal()}\")\n",
    "print(\"\")\n",
    "print(\"\")\n",
    "print(\"\")"
   ]
  },
  {
   "cell_type": "code",
   "execution_count": 129,
   "metadata": {},
   "outputs": [
    {
     "data": {
      "text/plain": [
       "[('NDD1', 'P1'), ('P1', 'P2'), ('P2', 'P3'), ('P3', 'P4')]"
      ]
     },
     "execution_count": 129,
     "metadata": {},
     "output_type": "execute_result"
    }
   ],
   "source": [
    "solution_edges"
   ]
  },
  {
   "cell_type": "code",
   "execution_count": 130,
   "metadata": {},
   "outputs": [
    {
     "data": {
      "text/plain": [
       "{(('NDD1', 'P1'), 0): -0.0,\n",
       " (('NDD1', 'P1'), 1): 1.0,\n",
       " (('NDD1', 'P1'), 2): 1.0,\n",
       " (('NDD1', 'P1'), 3): 1.0,\n",
       " (('NDD1', 'P1'), 4): 1.0,\n",
       " (('NDD1', 'P1'), 5): -0.0,\n",
       " (('P1', 'P2'), 0): -0.0,\n",
       " (('P1', 'P2'), 1): -0.0,\n",
       " (('P1', 'P2'), 2): 1.0,\n",
       " (('P1', 'P2'), 3): 1.0,\n",
       " (('P1', 'P2'), 4): 1.0,\n",
       " (('P1', 'P2'), 5): -0.0,\n",
       " (('P2', 'P3'), 0): -0.0,\n",
       " (('P2', 'P3'), 1): -0.0,\n",
       " (('P2', 'P3'), 2): -0.0,\n",
       " (('P2', 'P3'), 3): 1.0,\n",
       " (('P2', 'P3'), 4): 1.0,\n",
       " (('P2', 'P3'), 5): -0.0,\n",
       " (('P3', 'P4'), 0): -0.0,\n",
       " (('P3', 'P4'), 1): -0.0,\n",
       " (('P3', 'P4'), 2): -0.0,\n",
       " (('P3', 'P4'), 3): -0.0,\n",
       " (('P3', 'P4'), 4): 1.0,\n",
       " (('P3', 'P4'), 5): -0.0,\n",
       " (('P4', 'P5'), 0): -0.0,\n",
       " (('P4', 'P5'), 1): -0.0,\n",
       " (('P4', 'P5'), 2): -0.0,\n",
       " (('P4', 'P5'), 3): -0.0,\n",
       " (('P4', 'P5'), 4): -0.0,\n",
       " (('P4', 'P5'), 5): -0.0}"
      ]
     },
     "execution_count": 130,
     "metadata": {},
     "output_type": "execute_result"
    }
   ],
   "source": [
    "prob.getSolution(x)"
   ]
  }
 ],
 "metadata": {
  "kernelspec": {
   "display_name": "TiAOR",
   "language": "python",
   "name": "python3"
  },
  "language_info": {
   "codemirror_mode": {
    "name": "ipython",
    "version": 3
   },
   "file_extension": ".py",
   "mimetype": "text/x-python",
   "name": "python",
   "nbconvert_exporter": "python",
   "pygments_lexer": "ipython3",
   "version": "3.12.3"
  }
 },
 "nbformat": 4,
 "nbformat_minor": 2
}

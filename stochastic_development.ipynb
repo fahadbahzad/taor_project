{
 "cells": [
  {
   "cell_type": "markdown",
   "metadata": {},
   "source": [
    "This file is a sort of testpad for developing stochastic aspects of the model."
   ]
  },
  {
   "cell_type": "code",
   "execution_count": 1,
   "metadata": {},
   "outputs": [],
   "source": [
    "import numpy as np\n",
    "import random\n",
    "import xpress as xp\n",
    "xp.init('C:/Program Files/xpressmp/bin/xpauth_personal.xpr') # For licensing.\n",
    "\n",
    "import networkx as nx\n",
    "import time"
   ]
  },
  {
   "cell_type": "code",
   "execution_count": 2,
   "metadata": {},
   "outputs": [],
   "source": [
    "import tiaor_v2 as t"
   ]
  },
  {
   "cell_type": "code",
   "execution_count": 3,
   "metadata": {},
   "outputs": [],
   "source": [
    "# # Example input data 1\n",
    "\n",
    "# pairs = [\"P1\", \"P2\", \"P3\", \"P4\"] \n",
    "# altruistic_donors = [\"NDD1\"]\n",
    "# nodes = pairs + altruistic_donors\n",
    "# edges = {(\"NDD1\", \"P1\"): 2,\n",
    "#          (\"P1\", \"P2\"): 10, \n",
    "#          (\"P2\", \"P3\"): 10,\n",
    "#          (\"P3\", \"P4\"): 10,\n",
    "#          (\"P4\", \"P1\"): 10\n",
    "# }\n",
    "\n",
    "# # Example input data 2\n",
    "\n",
    "# pairs = [\"P1\", \"P2\", \"P3\", \"P4\", \"P5\"] \n",
    "# altruistic_donors = [\"NDD1\"]\n",
    "# nodes = pairs + altruistic_donors\n",
    "# edges = {(\"NDD1\", \"P1\"): 0.1,\n",
    "#          (\"P1\", \"P2\"): 10, \n",
    "#          (\"P2\", \"P3\"): 9,\n",
    "#          (\"P3\", \"P4\"): 8,\n",
    "#          (\"P4\", \"P5\"): 7,\n",
    "#          (\"P5\", \"P1\"): 6\n",
    "# }\n",
    "\n",
    "# # Example input data 3\n",
    "\n",
    "# pairs = [\"P1\", \"P2\", \"P3\", \"P4\", \"P5\"] \n",
    "# altruistic_donors = [\"NDD1\"]\n",
    "# nodes = pairs + altruistic_donors\n",
    "# edges = {(\"NDD1\", \"P1\"): 0.1,\n",
    "#          (\"P1\", \"P2\"): 10, \n",
    "#          (\"P2\", \"P3\"): 9,\n",
    "#          (\"P3\", \"P4\"): 8,\n",
    "#          (\"P4\", \"P5\"): 7\n",
    "# }\n",
    "\n",
    "# # Example input data 4\n",
    "\n",
    "pairs = [\"A\", \"B\", \"C\", \"D\"] \n",
    "altruistic_donors = [\"N\"]\n",
    "nodes = pairs + altruistic_donors\n",
    "edges = {(\"N\", \"A\"): 1,\n",
    "         (\"A\", \"B\"): 1000, \n",
    "         (\"B\", \"C\"): 1000,\n",
    "         (\"C\", \"D\"): 1000,\n",
    "         (\"C\", \"A\"): 1000\n",
    "}\n"
   ]
  },
  {
   "cell_type": "code",
   "execution_count": 4,
   "metadata": {},
   "outputs": [],
   "source": [
    "scenarios = t.generate_simple_scenarios(pairs,altruistic_donors,edges)"
   ]
  },
  {
   "cell_type": "code",
   "execution_count": 5,
   "metadata": {},
   "outputs": [
    {
     "name": "stdout",
     "output_type": "stream",
     "text": [
      "\n",
      "##########################################################\n",
      "OPTIMIZATION COMPLETE: no cycles of length more than 3.\n",
      "##########################################################\n",
      "\n",
      "The optimization took 0.012591361999511719 seconds to execute.\n",
      "\n",
      "\n",
      "\n",
      "Total Benefit: 3001.0\n",
      "\n",
      "\n",
      "\n"
     ]
    },
    {
     "data": {
      "text/plain": [
       "(3001.0,\n",
       " [('N', 'A'), ('A', 'B'), ('B', 'C'), ('C', 'D')],\n",
       " 0.012591361999511719,\n",
       " None,\n",
       " {('N', 'A'): 1.0,\n",
       "  ('A', 'B'): 1.0,\n",
       "  ('B', 'C'): 1.0,\n",
       "  ('C', 'D'): 1.0,\n",
       "  ('C', 'A'): -0.0})"
      ]
     },
     "execution_count": 5,
     "metadata": {},
     "output_type": "execute_result"
    }
   ],
   "source": [
    "t.ra(pairs=pairs,altruistic_donors=altruistic_donors,edges=edges,scenarios=None)"
   ]
  },
  {
   "cell_type": "code",
   "execution_count": 6,
   "metadata": {},
   "outputs": [
    {
     "name": "stdout",
     "output_type": "stream",
     "text": [
      "\n",
      "##########################################################\n",
      "OPTIMIZATION COMPLETE: no cycles of length more than 3.\n",
      "##########################################################\n",
      "\n",
      "The optimization took 0.011421680450439453 seconds to execute.\n",
      "\n",
      "\n",
      "\n",
      "Total Benefit: 1200.0\n",
      "\n",
      "\n",
      "\n",
      "Expected value of DETERMINISTIC solution: 600.6\n",
      "Expected value of STOCHASTIC solution: 1200.0\n",
      "VSS: 599.4\n"
     ]
    },
    {
     "data": {
      "text/plain": [
       "(1200.0,\n",
       " [('A', 'B'), ('B', 'C'), ('C', 'A')],\n",
       " 0.011421680450439453,\n",
       " 599.4,\n",
       " {('N', 'A'): 0.0,\n",
       "  ('A', 'B'): 1.0,\n",
       "  ('B', 'C'): 1.0,\n",
       "  ('C', 'D'): 0.0,\n",
       "  ('C', 'A'): 1.0})"
      ]
     },
     "execution_count": 6,
     "metadata": {},
     "output_type": "execute_result"
    }
   ],
   "source": [
    "t.ra(pairs=pairs,altruistic_donors=altruistic_donors,edges=edges,scenarios=scenarios)"
   ]
  },
  {
   "cell_type": "code",
   "execution_count": 10,
   "metadata": {},
   "outputs": [
    {
     "name": "stdout",
     "output_type": "stream",
     "text": [
      "\n",
      "##########################################################\n",
      "OPTIMIZATION COMPLETE: no cycles of length more than 3.\n",
      "##########################################################\n",
      "\n",
      "The optimization took 0.0073163509368896484 seconds to execute.\n",
      "\n",
      "\n",
      "\n",
      "Total Benefit: 3001.0\n",
      "\n",
      "\n",
      "\n"
     ]
    },
    {
     "data": {
      "text/plain": [
       "(3001.0,\n",
       " [('N', 'A'), ('A', 'B'), ('B', 'C'), ('C', 'D')],\n",
       " 0.0073163509368896484,\n",
       " None,\n",
       " {('N', 'A'): 1.0,\n",
       "  ('A', 'B'): 1.0,\n",
       "  ('B', 'C'): 1.0,\n",
       "  ('C', 'D'): 1.0,\n",
       "  ('C', 'A'): -0.0})"
      ]
     },
     "execution_count": 10,
     "metadata": {},
     "output_type": "execute_result"
    }
   ],
   "source": [
    "t.ra(pairs,altruistic_donors,edges,k=3,noisy=1,scenarios=None)"
   ]
  }
 ],
 "metadata": {
  "kernelspec": {
   "display_name": "TiAOR",
   "language": "python",
   "name": "python3"
  },
  "language_info": {
   "codemirror_mode": {
    "name": "ipython",
    "version": 3
   },
   "file_extension": ".py",
   "mimetype": "text/x-python",
   "name": "python",
   "nbconvert_exporter": "python",
   "pygments_lexer": "ipython3",
   "version": "3.12.3"
  }
 },
 "nbformat": 4,
 "nbformat_minor": 2
}
